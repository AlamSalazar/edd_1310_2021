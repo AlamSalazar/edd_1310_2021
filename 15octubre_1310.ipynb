{
  "nbformat": 4,
  "nbformat_minor": 0,
  "metadata": {
    "colab": {
      "name": "15octubre_1310.ipynb",
      "provenance": [],
      "authorship_tag": "ABX9TyMUpfTAibidLpPmVBv0Dzkm",
      "include_colab_link": true
    },
    "kernelspec": {
      "name": "python3",
      "display_name": "Python 3"
    }
  },
  "cells": [
    {
      "cell_type": "markdown",
      "metadata": {
        "id": "view-in-github",
        "colab_type": "text"
      },
      "source": [
        "<a href=\"https://colab.research.google.com/github/AlamSalazar/edd_1310_2021/blob/master/15octubre_1310.ipynb\" target=\"_parent\"><img src=\"https://colab.research.google.com/assets/colab-badge.svg\" alt=\"Open In Colab\"/></a>"
      ]
    },
    {
      "cell_type": "markdown",
      "metadata": {
        "id": "zseN0txH8TGZ"
      },
      "source": [
        "#Módulos\n",
        "- Son recursos reutilizables que contienen varias funciones que pueden ser importadas a tu código (Bibliotecas en C)"
      ]
    },
    {
      "cell_type": "code",
      "metadata": {
        "id": "u_nZ0LDg8IoA",
        "outputId": "bd1064c1-dc6d-40df-daa8-64415d304764",
        "colab": {
          "base_uri": "https://localhost:8080/",
          "height": 52
        }
      },
      "source": [
        "import mi_modulo\n",
        "\"\"\"\n",
        "x = mi_modulo.sumar( 3 , 7 )\n",
        "print(x)\n",
        "print(mi_modulo.restar( 3 , 7 ))\n",
        "print(mi_modulo.mutiplicar( 3 , 7 ))\n",
        "print(mi_modulo.dividir( 3 , 7 ))\n",
        "\"\"\""
      ],
      "execution_count": 11,
      "outputs": [
        {
          "output_type": "execute_result",
          "data": {
            "application/vnd.google.colaboratory.intrinsic+json": {
              "type": "string"
            },
            "text/plain": [
              "'\\nx = mi_modulo.sumar( 3 , 7 )\\nprint(x)\\nprint(mi_modulo.restar( 3 , 7 ))\\nprint(mi_modulo.mutiplicar( 3 , 7 ))\\nprint(mi_modulo.dividir( 3 , 7 ))\\n'"
            ]
          },
          "metadata": {
            "tags": []
          },
          "execution_count": 11
        }
      ]
    },
    {
      "cell_type": "code",
      "metadata": {
        "id": "I0Lf8B_AICnA",
        "outputId": "04495d2c-4408-4d06-bce1-baca127b6e99",
        "colab": {
          "base_uri": "https://localhost:8080/",
          "height": 69
        }
      },
      "source": [
        "from mi_modulo import sumar,dividir\n",
        "print(sumar(4,7)) #así solo se usa lo necesario\n",
        "#Administración de costos\n",
        "print(dividir(14,7))\n",
        "print(int(dividir(14,7)))"
      ],
      "execution_count": 16,
      "outputs": [
        {
          "output_type": "stream",
          "text": [
            "11\n",
            "2.0\n",
            "2\n"
          ],
          "name": "stdout"
        }
      ]
    },
    {
      "cell_type": "code",
      "metadata": {
        "id": "UFlwU459Kc0U",
        "outputId": "cabdcd24-0cf3-416f-c934-4acff1259c79",
        "colab": {
          "base_uri": "https://localhost:8080/",
          "height": 52
        }
      },
      "source": [
        "import mi_modulo as patito #asignar un alias para hacer más facil de leer el código\n",
        "print(patito.sumar(4,6))\n",
        "from mi_modulo import  sumar as sm # Y también a as funciones\n",
        "print(sm(4,7))"
      ],
      "execution_count": 14,
      "outputs": [
        {
          "output_type": "stream",
          "text": [
            "10\n",
            "11\n"
          ],
          "name": "stdout"
        }
      ]
    },
    {
      "cell_type": "code",
      "metadata": {
        "id": "NAP4IkhwLWic",
        "outputId": "98881b70-f85a-45e1-da99-cf91da8dc581",
        "colab": {
          "base_uri": "https://localhost:8080/",
          "height": 280
        }
      },
      "source": [
        "pip install joke-generator"
      ],
      "execution_count": 25,
      "outputs": [
        {
          "output_type": "stream",
          "text": [
            "Collecting joke-generator\n",
            "  Downloading https://files.pythonhosted.org/packages/95/e5/de76c4aff315ad38ab69cd25ea942250a51008e910905c1f8ef80265b15b/joke_generator-1.0.1.tar.gz\n",
            "Requirement already satisfied: requests>=2.22.0 in /usr/local/lib/python3.6/dist-packages (from joke-generator) (2.23.0)\n",
            "Requirement already satisfied: certifi>=2017.4.17 in /usr/local/lib/python3.6/dist-packages (from requests>=2.22.0->joke-generator) (2020.6.20)\n",
            "Requirement already satisfied: idna<3,>=2.5 in /usr/local/lib/python3.6/dist-packages (from requests>=2.22.0->joke-generator) (2.10)\n",
            "Requirement already satisfied: chardet<4,>=3.0.2 in /usr/local/lib/python3.6/dist-packages (from requests>=2.22.0->joke-generator) (3.0.4)\n",
            "Requirement already satisfied: urllib3!=1.25.0,!=1.25.1,<1.26,>=1.21.1 in /usr/local/lib/python3.6/dist-packages (from requests>=2.22.0->joke-generator) (1.24.3)\n",
            "Building wheels for collected packages: joke-generator\n",
            "  Building wheel for joke-generator (setup.py) ... \u001b[?25l\u001b[?25hdone\n",
            "  Created wheel for joke-generator: filename=joke_generator-1.0.1-cp36-none-any.whl size=2075 sha256=0f88366ff3f95f0924787f91b7f6379719999ce1abb3d8516bf0db9a1ea2bfa1\n",
            "  Stored in directory: /root/.cache/pip/wheels/b1/e1/1c/42a5a669d05834c31aab52f6f87b1c7d50718f7669d51bd347\n",
            "Successfully built joke-generator\n",
            "Installing collected packages: joke-generator\n",
            "Successfully installed joke-generator-1.0.1\n"
          ],
          "name": "stdout"
        }
      ]
    },
    {
      "cell_type": "code",
      "metadata": {
        "id": "dfBKtLl_OBMA",
        "outputId": "96317ce2-9b5c-4367-828a-eb9eae6b6300",
        "colab": {
          "base_uri": "https://localhost:8080/",
          "height": 34
        }
      },
      "source": [
        "from joke_generator import generate\n",
        "generate()"
      ],
      "execution_count": 27,
      "outputs": [
        {
          "output_type": "execute_result",
          "data": {
            "application/vnd.google.colaboratory.intrinsic+json": {
              "type": "string"
            },
            "text/plain": [
              "'Why did the teddy bear say “no” to dessert? Because she was stuffed.'"
            ]
          },
          "metadata": {
            "tags": []
          },
          "execution_count": 27
        }
      ]
    },
    {
      "cell_type": "markdown",
      "metadata": {
        "id": "qnGB-puLSRQx"
      },
      "source": [
        "#Archivos\n",
        "- open ( str , str )\n",
        "  1. Nombre o ruta del archivo\n",
        "  2. Dos aracteres\n",
        "    - modo de apertuda del archivo ( r , w , a , x )\n",
        "    - formato del archivo ( t o b )\n",
        "  \n",
        "w = Escribir\n",
        "\n",
        "r = Leer\n",
        "\n",
        "a = apend solo si el archivo existe\n",
        "\n",
        "x = apend solo si el archivo NO existe\n",
        "\n",
        "---\n",
        "b = Binaria\n",
        "\n",
        "t = "
      ]
    },
    {
      "cell_type": "code",
      "metadata": {
        "id": "05sCiORiPzNa"
      },
      "source": [
        "archivo = open('saludo.txt',\"wt\")\n",
        "archivo.write(\"HolaMundo \\n Ola q ase \")\n",
        "archivo.close()"
      ],
      "execution_count": 29,
      "outputs": []
    },
    {
      "cell_type": "code",
      "metadata": {
        "id": "w0DL2AfhUDvB",
        "outputId": "bbd382b3-b754-4837-ec16-78c8e78f1028",
        "colab": {
          "base_uri": "https://localhost:8080/",
          "height": 190
        }
      },
      "source": [
        "otro = open('./sample_data/anscombe.json', \"rt\")\n",
        "datos = otro.read()\n",
        "#print(datos)\n",
        "otro.close()\n",
        "\n",
        "arch = open('frutas.txt','rt')\n",
        "print(arch.readline())\n",
        "print(\"----------\")\n",
        "print(arch.readline())\n",
        "print(\"----------\")\n",
        "print(arch.readline())\n",
        "print(\"----------\")\n",
        "print(arch.readline())\n",
        "\n",
        "arch.close()\n",
        "\n",
        "\n"
      ],
      "execution_count": 44,
      "outputs": [
        {
          "output_type": "stream",
          "text": [
            "manzana,pera , kiwi  , aguacate\n",
            "\n",
            "----------\n",
            "limon , naranja\n",
            "\n",
            "----------\n",
            "sandia , papaya\n",
            "----------\n",
            "\n",
            "\n"
          ],
          "name": "stdout"
        }
      ]
    },
    {
      "cell_type": "code",
      "metadata": {
        "id": "sDtsZvrZU1pB",
        "outputId": "72fe73a5-32a7-49a5-d7cd-cfac75af3fbe",
        "colab": {
          "base_uri": "https://localhost:8080/",
          "height": 138
        }
      },
      "source": [
        "arch = open('frutas.txt','rt')\n",
        "data='ppp'\n",
        "while (data != ''):\n",
        "  data = arch.readline()\n",
        "  print(data)\n",
        "arch.close()\n",
        "\n",
        "arch = open('frutas.txt','rt')\n",
        "list_frutas = arch.readlines()\n",
        "print(list_frutas)\n",
        "arch.close()"
      ],
      "execution_count": 50,
      "outputs": [
        {
          "output_type": "stream",
          "text": [
            "manzana,pera , kiwi  , aguacate\n",
            "\n",
            "limon , naranja\n",
            "\n",
            "sandia , papaya\n",
            "\n",
            "['manzana,pera , kiwi  , aguacate\\n', 'limon , naranja\\n', 'sandia , papaya']\n"
          ],
          "name": "stdout"
        }
      ]
    },
    {
      "cell_type": "code",
      "metadata": {
        "id": "mHgjR4cEWId_"
      },
      "source": [
        ""
      ],
      "execution_count": null,
      "outputs": []
    }
  ]
}