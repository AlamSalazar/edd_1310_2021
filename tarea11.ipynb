{
  "nbformat": 4,
  "nbformat_minor": 0,
  "metadata": {
    "colab": {
      "name": "tarea11.ipynb",
      "provenance": [],
      "authorship_tag": "ABX9TyMDwPtWmZ7KyWNMCPlIMli/",
      "include_colab_link": true
    },
    "kernelspec": {
      "name": "python3",
      "display_name": "Python 3"
    }
  },
  "cells": [
    {
      "cell_type": "markdown",
      "metadata": {
        "id": "view-in-github",
        "colab_type": "text"
      },
      "source": [
        "<a href=\"https://colab.research.google.com/github/AlamSalazar/edd_1310_2021/blob/master/tarea11.ipynb\" target=\"_parent\"><img src=\"https://colab.research.google.com/assets/colab-badge.svg\" alt=\"Open In Colab\"/></a>"
      ]
    },
    {
      "cell_type": "markdown",
      "metadata": {
        "id": "aaexmTYYAAx5"
      },
      "source": [
        "1.- Hacer una función recurso que dado un número entero positivo, imprima a la salida una cuenta regresiva hasta cero."
      ]
    },
    {
      "cell_type": "code",
      "metadata": {
        "colab": {
          "base_uri": "https://localhost:8080/"
        },
        "id": "-Oo4WLq9AHFV",
        "outputId": "075ff570-bc6d-4dbe-bcd8-95d65a9b44bc"
      },
      "source": [
        "#Función de cuenta regresiva desde n hasta 0\r\n",
        "#Intento que sea un poco gracioso, espero no le moleste\r\n",
        "import time\r\n",
        "def cuentaRegresiva( n ):\r\n",
        "    if n >= 0:\r\n",
        "        time.sleep(1)\r\n",
        "        print( n,end=\"|\")\r\n",
        "        cuentaRegresiva( n-1 )\r\n",
        "        if n==0:\r\n",
        "            print(\"\\nlisto o no, ¡allá voy!\")\r\n",
        "n=10\r\n",
        "print(\"Juguemos a las escondidillas\\nTienes\",n,\"segundos para esconderte\")\r\n",
        "cuentaRegresiva(n)\r\n",
        "time.sleep(1.5)\r\n",
        "print(\"\\n¡Te encontre!\")"
      ],
      "execution_count": 86,
      "outputs": [
        {
          "output_type": "stream",
          "text": [
            "Juguemos a las escondidillas\n",
            "Tienes 10 segundos para esconderte\n",
            "10|9|8|7|6|5|4|3|2|1|0|\n",
            "listo o no, ¡allá voy!\n",
            "\n",
            "¡Te encontre!\n"
          ],
          "name": "stdout"
        }
      ]
    },
    {
      "cell_type": "markdown",
      "metadata": {
        "id": "TdK7w_vuAjaM"
      },
      "source": [
        "2.- Hacer una función recursiva que reciba de entrada una pila con al menos 3 elementos y con recursividad elimine el elemento en la posición media."
      ]
    },
    {
      "cell_type": "code",
      "metadata": {
        "colab": {
          "base_uri": "https://localhost:8080/"
        },
        "id": "wwvPvp1pEGVS",
        "outputId": "12eb8e7a-448f-4b66-9b15-7a5cba1708ed"
      },
      "source": [
        "#Pilas\r\n",
        "class Stack:\r\n",
        "  def __init__(self):\r\n",
        "    self.__data = list()\r\n",
        "\r\n",
        "  def is_empty( self ):\r\n",
        "    return len(self.__data) == 0\r\n",
        "\r\n",
        "  def length( self ):\r\n",
        "    return len(self.__data )\r\n",
        "\r\n",
        "  def pop( self ):\r\n",
        "    if self.is_empty():\r\n",
        "      print(\"Pila vacía\")\r\n",
        "    else:\r\n",
        "      return self.__data.pop()\r\n",
        "\r\n",
        "  def push( self , value ):\r\n",
        "    self.__data.append(value)\r\n",
        "\r\n",
        "  def peek( self ):\r\n",
        "    return self._data[ len(self.__data)-1 ]\r\n",
        "\r\n",
        "  def to_string( self ):\r\n",
        "    print(\"  -----\")\r\n",
        "    for item in self.__data:\r\n",
        "      print(f\"  | {item} |  \")\r\n",
        "      print(\"  -----\")\r\n",
        "\r\n",
        "#primer intentp, para entender el tema\r\n",
        "def elimina_medio_sin_recursividad(lista):\r\n",
        "    tam=int(lista.length())\r\n",
        "    if tam >=3:\r\n",
        "        respaldo = Stack()\r\n",
        "        mitad=int(tam/2)\r\n",
        "        for i in range(mitad):\r\n",
        "            sal = lista.pop()\r\n",
        "            respaldo.push(sal)\r\n",
        "        dato=lista.pop()\r\n",
        "        for j in range(mitad):\r\n",
        "            sal = respaldo.pop()\r\n",
        "            lista.push(sal)\r\n",
        "        print(\"Sin recursividad\\nElimina:\",dato)\r\n",
        "\r\n",
        "#función recursiva\r\n",
        "def elimina_medio(lista,i):\r\n",
        "    if i>=3:\r\n",
        "        tam=int(lista.length())\r\n",
        "        f=int(i/2+1)\r\n",
        "        #print(\"tamaño:\",tam,\"i:\",f)\r\n",
        "        if tam <= f:\r\n",
        "            temp=lista.pop()\r\n",
        "            print(\"Con recursividad\\nElimina:\",temp)\r\n",
        "        else:\r\n",
        "            temp=lista.pop()\r\n",
        "            #print(\"almacena\",temp)\r\n",
        "            elimina_medio(lista,i)\r\n",
        "            lista.push(temp)\r\n",
        "    else:\r\n",
        "        print(\"La pila\",lista,\"no tiene 3 o más elementos\")\r\n",
        "\r\n",
        "#from pilas import Stack\r\n",
        "#Creación de pila\r\n",
        "pila = Stack()\r\n",
        "pila.push('a')\r\n",
        "pila.push('b')\r\n",
        "pila.push('c')\r\n",
        "pila.push('d')\r\n",
        "pila.push('e')\r\n",
        "pila.push('f')\r\n",
        "pila.push('g')\r\n",
        "print(\"Pila origninal:\")\r\n",
        "pila.to_string()\r\n",
        "\r\n",
        "#Uso de funcion para eliminar dato del medio(tarea)\r\n",
        "#print(\"-----------------\")\r\n",
        "#elimina_medio_sin_recursividad(pila)\r\n",
        "#pila.to_string()\r\n",
        "print(\"-----------------\")\r\n",
        "i=pila.length()\r\n",
        "elimina_medio(pila,i)\r\n",
        "pila.to_string()"
      ],
      "execution_count": 84,
      "outputs": [
        {
          "output_type": "stream",
          "text": [
            "Pila origninal:\n",
            "  -----\n",
            "  | a |  \n",
            "  -----\n",
            "  | b |  \n",
            "  -----\n",
            "  | c |  \n",
            "  -----\n",
            "  | d |  \n",
            "  -----\n",
            "  | e |  \n",
            "  -----\n",
            "  | f |  \n",
            "  -----\n",
            "  | g |  \n",
            "  -----\n",
            "-----------------\n",
            "Con recursividad\n",
            "Elimina: d\n",
            "  -----\n",
            "  | a |  \n",
            "  -----\n",
            "  | b |  \n",
            "  -----\n",
            "  | c |  \n",
            "  -----\n",
            "  | e |  \n",
            "  -----\n",
            "  | f |  \n",
            "  -----\n",
            "  | g |  \n",
            "  -----\n"
          ],
          "name": "stdout"
        }
      ]
    },
    {
      "cell_type": "code",
      "metadata": {
        "id": "xPVe0zGPPdKZ"
      },
      "source": [
        ""
      ],
      "execution_count": null,
      "outputs": []
    }
  ]
}