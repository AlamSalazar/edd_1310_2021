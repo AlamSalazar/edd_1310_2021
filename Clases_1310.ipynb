{
  "nbformat": 4,
  "nbformat_minor": 0,
  "metadata": {
    "colab": {
      "name": "Clases_1310.ipynb",
      "provenance": [],
      "collapsed_sections": [],
      "authorship_tag": "ABX9TyNIozabJgiNccARna8xRHX+",
      "include_colab_link": true
    },
    "kernelspec": {
      "name": "python3",
      "display_name": "Python 3"
    }
  },
  "cells": [
    {
      "cell_type": "markdown",
      "metadata": {
        "id": "view-in-github",
        "colab_type": "text"
      },
      "source": [
        "<a href=\"https://colab.research.google.com/github/AlamSalazar/edd_1310_2021/blob/master/Clases_1310.ipynb\" target=\"_parent\"><img src=\"https://colab.research.google.com/assets/colab-badge.svg\" alt=\"Open In Colab\"/></a>"
      ]
    },
    {
      "cell_type": "markdown",
      "metadata": {
        "id": "SaWlsoOLou0_"
      },
      "source": [
        "#Persona   \n",
        "    *atributos : Nombre, Edad y Estatura\n",
        "    *Métodos: Dormir y Comer"
      ]
    },
    {
      "cell_type": "code",
      "metadata": {
        "id": "ft0tACQqH9NS",
        "outputId": "0f60ef5a-118d-4534-f094-7049349106cd",
        "colab": {
          "base_uri": "https://localhost:8080/",
          "height": 52
        }
      },
      "source": [
        "class Persona:\n",
        "  def __init__( self, nom , ed , es ):\n",
        "    self.__nombre = nom\n",
        "    self.__edad = ed\n",
        "    self.__estatura = es\n",
        "\n",
        "  def dormir( self ): \n",
        "    if (int(self.__edad) <= 10 ):\n",
        "      r=12 \n",
        "      cara=\" :)\"\n",
        "    if (int(self.__edad) <= 30 ):\n",
        "      r=\"solo 5\"\n",
        "      cara=\" :'(\"\n",
        "    if (int(self.__edad) > 30 ):\n",
        "      r=8\n",
        "      cara=\" :(\"\n",
        "    return self.__nombre+ \" va a dormir \"+str(r)+ \" horas \"+cara\n",
        "\n",
        "  def comer( self ):\n",
        "    if (int(self.__edad) <= 10 ):\n",
        "      com = \"rica comida de mamá \" \n",
        "      cara=\":)\"\n",
        "    if (int(self.__edad) <= 30 ):\n",
        "      com=\"Maruchan \"\n",
        "      cara=\":(\"\n",
        "    if (int(self.__edad) > 30 ):\n",
        "      com=\"Comida rica \"\n",
        "      cara=\":O\"\n",
        "    return self.__nombre+\" va a comer \"+com+cara\n",
        "\n",
        "##########    Puede modificar los datos de la persona    ##########\n",
        "yo = Persona(\"Alam Salazar\",\"23\",\"1.79\")\n",
        "print(yo.comer())\n",
        "print(yo.dormir())"
      ],
      "execution_count": null,
      "outputs": [
        {
          "output_type": "stream",
          "text": [
            "Alam Salazar va a comer Maruchan :(\n",
            "Alam Salazar va a dormir solo 5 horas  :'(\n"
          ],
          "name": "stdout"
        }
      ]
    },
    {
      "cell_type": "markdown",
      "metadata": {
        "id": "ginnlufGo1qx"
      },
      "source": [
        "#Celular\n",
        "    *atributos: Marca, Modelo y espacio de Memoria\n",
        "    *Métodos: Llamar, poner alarma\n"
      ]
    },
    {
      "cell_type": "code",
      "metadata": {
        "id": "04u7AeTHJMKT",
        "outputId": "81e3c0f9-66fa-4864-adad-31a66fbd13ef",
        "colab": {
          "base_uri": "https://localhost:8080/",
          "height": 121
        }
      },
      "source": [
        "from datetime import datetime\n",
        "import time\n",
        "class Celular:\n",
        "  def __init__( self, mar , mod , memo ):\n",
        "    self.__marca = mar\n",
        "    self.__modelo = mod\n",
        "    self.__espacioDeMemoria = memo\n",
        "\n",
        "  def llamar( self ): \n",
        "    numero=[]\n",
        "    y=True\n",
        "    print(\"Escriba el numero telefonico de 10 digitos\")\n",
        "    while (y==True):\n",
        "      r=str (input())\n",
        "      numero.insert(0,r)\n",
        "      print(len(numero[0]))\n",
        "      if (int (len(numero[0]))<10 or int (len(numero[0]))>10):\n",
        "        print(\"Estimado usuario, la llamada no puede ser procesada,\\n recordamos que por disposición oficial sólo se deben\\n marcar 10 dígitos del número a contactar\")\n",
        "\n",
        "      if (int (len(numero[0])) == 10):\n",
        "        print(\"marcando....\")\n",
        "        time.sleep(2)\n",
        "        print(\"piiiiip......\")\n",
        "        time.sleep(2)\n",
        "        print(\"piiiiip......\")\n",
        "        time.sleep(2)\n",
        "        print(\"piiiiip......\")\n",
        "        time.sleep(2)\n",
        "        print(\"su llamada será transferida al buzón\")\n",
        "        time.sleep(2)\n",
        "        y=False\n",
        "    return \":(\"\n",
        "  \n",
        "  def alarma( self ):\n",
        "    now = datetime.now()\n",
        "    print(\"¿A qué hora desea que suene su alarma?\")\n",
        "    i=1\n",
        "    j=1\n",
        "    while (i == 1):\n",
        "      hora=int (input(\"Hora: \"))\n",
        "      if (hora>=0 and hora <= 24): \n",
        "        i+=1\n",
        "      else:\n",
        "          print(\"No,no,no, mete bien la hora\")\n",
        "    while (j == 1):\n",
        "      minuto=int (input(\"Minuto: \"))\n",
        "      if (minuto>=0 and minuto <= 60): \n",
        "        j+=1\n",
        "      else:\n",
        "          print(\"No,no,no, mete bien la hora\")\n",
        "    \n",
        "    hr=now.hour\n",
        "    mr=now.minute\n",
        "######################    IMPORTANTE    ######################\n",
        "    if hr>=5:   #Ajuste por la hora de Colab\n",
        "      hr-=5     #Esto no hace falta en pc propia\n",
        "    if hr < 5:\n",
        "      hr+=24-5  #Comentar hasta aquí si es ejecutado en pc propia\n",
        "    \n",
        "    falHor = hora-hr\n",
        "\n",
        "    if (falHor<0):\n",
        "      falHor+=+24\n",
        "\n",
        "    falMin = minuto-mr\n",
        "    if (falMin<0):\n",
        "      falMin+=60\n",
        "\n",
        "    print(\"Son las:  \",hr,\":\",mr,\"hrs\")\n",
        "    print(\"Faltan: \",falHor,\":\",falMin,\"hrs   para que suene la alarma\")\n",
        "\n",
        "    return \"Descansa\"\n",
        "\n",
        "yo = Celular(\"Motorola\",\"7Plus\",\"128 GB\")\n",
        "#print(yo.llamar())\n",
        "print(yo.alarma())"
      ],
      "execution_count": 99,
      "outputs": [
        {
          "output_type": "stream",
          "text": [
            "¿A qué hora desea que suene su alarma?\n",
            "Hora: 4\n",
            "Minuto: 56\n",
            "Son las:   5 : 11 hrs\n",
            "Faltan:  23 : 45 hrs   para que suene la alarma\n",
            "Descansa\n"
          ],
          "name": "stdout"
        }
      ]
    },
    {
      "cell_type": "code",
      "metadata": {
        "id": "67_QIanDVch1"
      },
      "source": [
        ""
      ],
      "execution_count": null,
      "outputs": []
    }
  ]
}