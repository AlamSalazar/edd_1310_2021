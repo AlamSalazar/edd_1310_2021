{
  "nbformat": 4,
  "nbformat_minor": 0,
  "metadata": {
    "colab": {
      "name": "Tarea9.ipynb",
      "provenance": [],
      "collapsed_sections": [],
      "include_colab_link": true
    },
    "kernelspec": {
      "name": "python3",
      "display_name": "Python 3"
    }
  },
  "cells": [
    {
      "cell_type": "markdown",
      "metadata": {
        "id": "view-in-github",
        "colab_type": "text"
      },
      "source": [
        "<a href=\"https://colab.research.google.com/github/AlamSalazar/edd_1310_2021/blob/master/Tarea9.ipynb\" target=\"_parent\"><img src=\"https://colab.research.google.com/assets/colab-badge.svg\" alt=\"Open In Colab\"/></a>"
      ]
    },
    {
      "cell_type": "code",
      "metadata": {
        "colab": {
          "base_uri": "https://localhost:8080/",
          "height": 540
        },
        "id": "-y7q7Dux0T-m",
        "outputId": "66dc35e4-ec5b-4e90-cf1b-37cd1993c8dd"
      },
      "source": [
        "class PriorityQueue:\n",
        "    def __init__(self):\n",
        "        self.__data = list() #[]\n",
        "        self.__size = 0\n",
        " \n",
        "    def is_empty(self):\n",
        "        return self.__size == 0\n",
        " \n",
        "    def length(self):\n",
        "        return self.__size\n",
        " \n",
        "    def enqueue(self,prioridad,elem):\n",
        "        recorre=list()\n",
        "        #i = int(prioridad)\n",
        "        if prioridad >= 0:#comprueba que la prioridad exista\n",
        "            if not self.is_empty():#comprueba que la lista no esté vacia\n",
        "                ref = self.__data[-1]\n",
        "                refe = int (ref['prioridad'])\n",
        "                print(\"->\",refe)\n",
        "                if prioridad > refe: #si la prioridad es más alta que el ultimo elemento de la lista, simplemente hace append\n",
        "                    self.__data.append(elem)\n",
        "                    self.__size += 1\n",
        "                else:\n",
        "                    while prioridad < refe: #si la prioridad es más baja que el ultimo elemento de la lista, recorre todo a una nueva lista para agregar en su lugar correspondiente el nuevo dato\n",
        "                        salva = self.__data.pop()\n",
        "                        recorre.append(salva)\n",
        "                        print(\"recorre\",recorre)\n",
        "                        print(\"referencia\",refe)\n",
        "                        ref = self.__data[-1]\n",
        "                        refe = int (ref['prioridad'])\n",
        "                        \n",
        "                    self.__data.append(elem)\n",
        "                    j=0\n",
        "                    while j < len(recorre):\n",
        "                        salva2 = recorre.pop(-1)\n",
        "                        self.__data.append(salva2)\n",
        "                        j+=1\n",
        "                    self.__size += 1\n",
        "            else:\n",
        "                self.__data.append(elem)\n",
        "                self.__size += 1\n",
        " \n",
        " \n",
        "    def dequeue(self):\n",
        "        if not self.is_empty():\n",
        "            return self.__data.pop(0)\n",
        "        else:\n",
        "            return None\n",
        " \n",
        "    def to_string(self):\n",
        "        cadena = \"\"\n",
        "        for elem in self.__data:\n",
        "            cadena += \"|\" + str(elem['prioridad'])\n",
        "        cadena += \"|\"\n",
        "        return cadena\n",
        " \n",
        "#from colas import Queue,BoundePriorityQueue\n",
        "maestres = {\"prioridad\":4,\"descripcion\":\"Maestre\",\"personas\":[\"Juan P\",\"Diego H\"]}\n",
        "mujeres  = {\"prioridad\":3,\"descripcion\":\"Mujeres\",\"personas\":[\"Fernanda Y\",\"Daniela M\"]}\n",
        "niños = {\"prioridad\":2,\"descripcion\":\"Niños\",\"personas\":[\"Santi H\",\"Angel H\"]}\n",
        "ninas = {\"prioridad\":1,\"descripcion\":\"Niñas\",\"personas\":[\"Fabiola R\",\"Cati G\"]}\n",
        "cpa=PriorityQueue()\n",
        "\n",
        "cpa.enqueue(niños['prioridad'], niños)\n",
        "cpa.to_string()\n",
        "cpa.enqueue(maestres['prioridad'],maestres)\n",
        "cpa.to_string()\n",
        "cpa.enqueue(mujeres['prioridad'],mujeres)\n",
        "cpa.to_string()\n",
        "cpa.enqueue(ninas['prioridad'], ninas)\n",
        "cpa.to_string()"
      ],
      "execution_count": 149,
      "outputs": [
        {
          "output_type": "stream",
          "text": [
            "-> 2\n",
            "-> 4\n",
            "recorre [{'prioridad': 4, 'descripcion': 'Maestre', 'personas': ['Juan P', 'Diego H']}]\n",
            "referencia 4\n",
            "-> 4\n",
            "recorre [{'prioridad': 4, 'descripcion': 'Maestre', 'personas': ['Juan P', 'Diego H']}]\n",
            "referencia 4\n",
            "recorre [{'prioridad': 4, 'descripcion': 'Maestre', 'personas': ['Juan P', 'Diego H']}, {'prioridad': 3, 'descripcion': 'Mujeres', 'personas': ['Fernanda Y', 'Daniela M']}]\n",
            "referencia 3\n",
            "recorre [{'prioridad': 4, 'descripcion': 'Maestre', 'personas': ['Juan P', 'Diego H']}, {'prioridad': 3, 'descripcion': 'Mujeres', 'personas': ['Fernanda Y', 'Daniela M']}, {'prioridad': 2, 'descripcion': 'Niños', 'personas': ['Santi H', 'Angel H']}]\n",
            "referencia 2\n"
          ],
          "name": "stdout"
        },
        {
          "output_type": "error",
          "ename": "IndexError",
          "evalue": "ignored",
          "traceback": [
            "\u001b[0;31m---------------------------------------------------------------------------\u001b[0m",
            "\u001b[0;31mIndexError\u001b[0m                                Traceback (most recent call last)",
            "\u001b[0;32m<ipython-input-149-04f477d6b61b>\u001b[0m in \u001b[0;36m<module>\u001b[0;34m()\u001b[0m\n\u001b[1;32m     68\u001b[0m \u001b[0mcpa\u001b[0m\u001b[0;34m.\u001b[0m\u001b[0menqueue\u001b[0m\u001b[0;34m(\u001b[0m\u001b[0mmujeres\u001b[0m\u001b[0;34m[\u001b[0m\u001b[0;34m'prioridad'\u001b[0m\u001b[0;34m]\u001b[0m\u001b[0;34m,\u001b[0m\u001b[0mmujeres\u001b[0m\u001b[0;34m)\u001b[0m\u001b[0;34m\u001b[0m\u001b[0;34m\u001b[0m\u001b[0m\n\u001b[1;32m     69\u001b[0m \u001b[0mcpa\u001b[0m\u001b[0;34m.\u001b[0m\u001b[0mto_string\u001b[0m\u001b[0;34m(\u001b[0m\u001b[0;34m)\u001b[0m\u001b[0;34m\u001b[0m\u001b[0;34m\u001b[0m\u001b[0m\n\u001b[0;32m---> 70\u001b[0;31m \u001b[0mcpa\u001b[0m\u001b[0;34m.\u001b[0m\u001b[0menqueue\u001b[0m\u001b[0;34m(\u001b[0m\u001b[0mninas\u001b[0m\u001b[0;34m[\u001b[0m\u001b[0;34m'prioridad'\u001b[0m\u001b[0;34m]\u001b[0m\u001b[0;34m,\u001b[0m \u001b[0mninas\u001b[0m\u001b[0;34m)\u001b[0m\u001b[0;34m\u001b[0m\u001b[0;34m\u001b[0m\u001b[0m\n\u001b[0m\u001b[1;32m     71\u001b[0m \u001b[0mcpa\u001b[0m\u001b[0;34m.\u001b[0m\u001b[0mto_string\u001b[0m\u001b[0;34m(\u001b[0m\u001b[0;34m)\u001b[0m\u001b[0;34m\u001b[0m\u001b[0;34m\u001b[0m\u001b[0m\n",
            "\u001b[0;32m<ipython-input-149-04f477d6b61b>\u001b[0m in \u001b[0;36menqueue\u001b[0;34m(self, prioridad, elem)\u001b[0m\n\u001b[1;32m     27\u001b[0m                         \u001b[0mprint\u001b[0m\u001b[0;34m(\u001b[0m\u001b[0;34m\"recorre\"\u001b[0m\u001b[0;34m,\u001b[0m\u001b[0mrecorre\u001b[0m\u001b[0;34m)\u001b[0m\u001b[0;34m\u001b[0m\u001b[0;34m\u001b[0m\u001b[0m\n\u001b[1;32m     28\u001b[0m                         \u001b[0mprint\u001b[0m\u001b[0;34m(\u001b[0m\u001b[0;34m\"referencia\"\u001b[0m\u001b[0;34m,\u001b[0m\u001b[0mrefe\u001b[0m\u001b[0;34m)\u001b[0m\u001b[0;34m\u001b[0m\u001b[0;34m\u001b[0m\u001b[0m\n\u001b[0;32m---> 29\u001b[0;31m                         \u001b[0mref\u001b[0m \u001b[0;34m=\u001b[0m \u001b[0mself\u001b[0m\u001b[0;34m.\u001b[0m\u001b[0m__data\u001b[0m\u001b[0;34m[\u001b[0m\u001b[0;34m-\u001b[0m\u001b[0;36m1\u001b[0m\u001b[0;34m]\u001b[0m\u001b[0;34m\u001b[0m\u001b[0;34m\u001b[0m\u001b[0m\n\u001b[0m\u001b[1;32m     30\u001b[0m                         \u001b[0mrefe\u001b[0m \u001b[0;34m=\u001b[0m \u001b[0mint\u001b[0m \u001b[0;34m(\u001b[0m\u001b[0mref\u001b[0m\u001b[0;34m[\u001b[0m\u001b[0;34m'prioridad'\u001b[0m\u001b[0;34m]\u001b[0m\u001b[0;34m)\u001b[0m\u001b[0;34m\u001b[0m\u001b[0;34m\u001b[0m\u001b[0m\n\u001b[1;32m     31\u001b[0m \u001b[0;34m\u001b[0m\u001b[0m\n",
            "\u001b[0;31mIndexError\u001b[0m: list index out of range"
          ]
        }
      ]
    },
    {
      "cell_type": "code",
      "metadata": {
        "id": "n_b872PK1l3p"
      },
      "source": [
        ""
      ],
      "execution_count": 29,
      "outputs": []
    }
  ]
}