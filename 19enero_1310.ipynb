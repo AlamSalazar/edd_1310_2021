{
  "nbformat": 4,
  "nbformat_minor": 0,
  "metadata": {
    "colab": {
      "name": "19enero_1310.ipynb",
      "provenance": [],
      "authorship_tag": "ABX9TyPckupGT0wq5e1BOdgiDTfN",
      "include_colab_link": true
    },
    "kernelspec": {
      "name": "python3",
      "display_name": "Python 3"
    }
  },
  "cells": [
    {
      "cell_type": "markdown",
      "metadata": {
        "id": "view-in-github",
        "colab_type": "text"
      },
      "source": [
        "<a href=\"https://colab.research.google.com/github/AlamSalazar/edd_1310_2021/blob/master/19enero_1310.ipynb\" target=\"_parent\"><img src=\"https://colab.research.google.com/assets/colab-badge.svg\" alt=\"Open In Colab\"/></a>"
      ]
    },
    {
      "cell_type": "code",
      "metadata": {
        "colab": {
          "base_uri": "https://localhost:8080/"
        },
        "id": "qgbdbSEBm2zU",
        "outputId": "a1484ca5-412a-4214-dd1a-3f60e6684ab1"
      },
      "source": [
        "#ArbolesBinarios.py\r\n",
        "class NodoArbol: #Binario\r\n",
        "    def __init__(self,value,left=None,right=None):\r\n",
        "        self.data=value\r\n",
        "        self.left=left\r\n",
        "        self.right=right\r\n",
        "\r\n",
        "\r\n",
        "class BinarySearchTree:\r\n",
        "    def __init__(self):\r\n",
        "        self.__root=None\r\n",
        "\r\n",
        "    def insert(self, value):\r\n",
        "        #Regla 1\r\n",
        "        if self.__root == None:\r\n",
        "            self.__root = NodoArbol(value,None,None)\r\n",
        "        #Regla 2\r\n",
        "        else:\r\n",
        "            self.__insert__(self.__root , value)\r\n",
        "    \r\n",
        "    def __insert__(self , nodo , value):\r\n",
        "        if nodo.data == value:\r\n",
        "            print(\"El dato ya existe, no se ingresa nada\")\r\n",
        "        elif value < nodo.data:\r\n",
        "            #Regla 1\r\n",
        "            if nodo.left == None:\r\n",
        "                nodo.left = NodoArbol(value)\r\n",
        "            #Regla 2\r\n",
        "            else:\r\n",
        "                self.__insert__(nodo.left , value)\r\n",
        "        else:\r\n",
        "            if nodo.right == None:\r\n",
        "                nodo.right = NodoArbol(value)\r\n",
        "            else:\r\n",
        "                self.__insert__(nodo.right , value)\r\n",
        "\r\n",
        "    def __recorrido_in(self , nodo):\r\n",
        "        if nodo!= None:\r\n",
        "            self.__recorrido_in(nodo.left)\r\n",
        "            print(nodo.data, end=\" \")\r\n",
        "            self.__recorrido_in(nodo.right)\r\n",
        "\r\n",
        "    def transversal(self , format=\"inorden\"):\r\n",
        "        if format == \"inorden\":\r\n",
        "            self.__recorrido_in(self.__root)\r\n",
        "        elif format == \"preorden\":\r\n",
        "            print(\"recorrido en pre\")\r\n",
        "        elif format == \"posorden\":\r\n",
        "            print(\"Posorden\")\r\n",
        "        else:\r\n",
        "            print(\"Error, ese formato no existe\")\r\n",
        "        print()\r\n",
        "\r\n",
        "\r\n",
        "#pruebas_abb.py\r\n",
        "#from arboles_binarios import BinarySearchTree\r\n",
        "\r\n",
        "abb = BinarySearchTree()\r\n",
        "abb.insert(50)\r\n",
        "abb.insert(30)\r\n",
        "abb.insert(60)\r\n",
        "abb.insert(35)\r\n",
        "abb.insert(89)\r\n",
        "\r\n",
        "abb.transversal()\r\n"
      ],
      "execution_count": 11,
      "outputs": [
        {
          "output_type": "stream",
          "text": [
            "30 35 50 60 89 \n"
          ],
          "name": "stdout"
        }
      ]
    },
    {
      "cell_type": "code",
      "metadata": {
        "id": "DDwdr-9s2QJF"
      },
      "source": [
        ""
      ],
      "execution_count": null,
      "outputs": []
    }
  ]
}