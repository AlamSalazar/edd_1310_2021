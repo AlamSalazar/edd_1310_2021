{
  "nbformat": 4,
  "nbformat_minor": 0,
  "metadata": {
    "colab": {
      "name": "27octubre_1310.ipynb",
      "provenance": [],
      "authorship_tag": "ABX9TyNDj+fPnY/A4d0gr6Mw//tR",
      "include_colab_link": true
    },
    "kernelspec": {
      "name": "python3",
      "display_name": "Python 3"
    }
  },
  "cells": [
    {
      "cell_type": "markdown",
      "metadata": {
        "id": "view-in-github",
        "colab_type": "text"
      },
      "source": [
        "<a href=\"https://colab.research.google.com/github/AlamSalazar/edd_1310_2021/blob/master/27octubre_1310.ipynb\" target=\"_parent\"><img src=\"https://colab.research.google.com/assets/colab-badge.svg\" alt=\"Open In Colab\"/></a>"
      ]
    },
    {
      "cell_type": "code",
      "metadata": {
        "id": "kqpErbCwAbfn",
        "outputId": "81f02aac-4e40-4f10-b1d5-48f404beda8a",
        "colab": {
          "base_uri": "https://localhost:8080/",
          "height": 69
        }
      },
      "source": [
        "class Computadora:\n",
        "    def __init__( self , m , p):\n",
        "        self.__marca = m #Cuando el atributo empieza con  __ se considera que el atributo es privado\n",
        "        self.__procesador = p #lo cual significa que no puede ser modificado\n",
        "\n",
        "    def to_string( self ):\n",
        "        return \"Marca:\"+self.__marca+\" Procesador:\"+self.__procesador\n",
        "    \n",
        "    def set_marca( self , m ):\n",
        "      self.__marca = m\n",
        "    \n",
        "    def get_marca( self):\n",
        "      return self.__marca\n",
        "    \n",
        "    def set_procesador( self , p ):\n",
        "      self.__procesador = p\n",
        "    \n",
        "    def get_procesador( self ):\n",
        "      return self.__procesador\n",
        "    \n",
        "\n",
        "mi_pc = Computadora(\"Toshiba\",\"Intel i7\")\n",
        "print(mi_pc.to_string())\n",
        "mi_pc.__marca=\"HP \"  #se intenta cambiar el valor privado, sin exito, porque el valor es privado\n",
        "mi_pc.set_marca(\"HP co.\")\n",
        "print(mi_pc.to_string())\n",
        "#print(mi_pc.__procesador)\n",
        "print(mi_pc.get_procesador())"
      ],
      "execution_count": 8,
      "outputs": [
        {
          "output_type": "stream",
          "text": [
            "Marca:Toshiba Procesador:Intel i7\n",
            "Marca:HP co. Procesador:Intel i7\n",
            "Intel i7\n"
          ],
          "name": "stdout"
        }
      ]
    },
    {
      "cell_type": "markdown",
      "metadata": {
        "id": "RESWmdMWEPBp"
      },
      "source": [
        "#Encapsulamiento python 3\n",
        "##Tradicional tipo Java\n",
        "    void setAtributo( val )\n",
        "    tipo getAtributo( )\n",
        "##Estilo python\n",
        "UTILIZANDO DECORADORES\n",
        "- @property\n",
        "- @atrubuto.setter"
      ]
    },
    {
      "cell_type": "code",
      "metadata": {
        "id": "6jHC3jO4C9Mv",
        "outputId": "c5ca1f1c-fcb7-4437-c2f5-d207eb13d605",
        "colab": {
          "base_uri": "https://localhost:8080/",
          "height": 138
        }
      },
      "source": [
        "class Computadora:\n",
        "  def __init__(self , m , p):\n",
        "    self.marca = m # No se declara, se manda a llamar el decorador #property\n",
        "    self.procesador = p # idem\n",
        "   \n",
        "  @property # se declara como atrubuto privado y funciona como metodo get\n",
        "  def marca( self ):\n",
        "    return self.__marca\n",
        "\n",
        "  @marca.setter\n",
        "  def marca( self , m):\n",
        "    print(\"--En el método set de Marca\")\n",
        "    self.__marca = m\n",
        "  \n",
        "  @property\n",
        "  def procesador( self ):\n",
        "    return self.__procesador\n",
        "  \n",
        "  @procesador.setter\n",
        "  def procesador( self, p ):\n",
        "    print(\"--En el método set de procesador\")\n",
        "    self.__procesador = p\n",
        "\n",
        "  def to_string( self ):\n",
        "    return \"Marca:\\t\\t\" + self.marca + \"\\nProcesador:\\t\" + self.procesador\n",
        "  \n",
        "mi_pc2 = Computadora(\"Mac Book pro\",\"Intel i7\")\n",
        "print(mi_pc2.to_string())\n",
        "mi_pc2.marca = \"Dell\" #con el decorador, se manda a llamar al set dorectamente\n",
        "print(mi_pc2.to_string())\n",
        "\n"
      ],
      "execution_count": 27,
      "outputs": [
        {
          "output_type": "stream",
          "text": [
            "--En el método set de Marca\n",
            "--En el método set de procesador\n",
            "Marca:\t\tMac Book pro\n",
            "Procesador:\tIntel i7\n",
            "--En el método set de Marca\n",
            "Marca:\t\tDell\n",
            "Procesador:\tIntel i7\n"
          ],
          "name": "stdout"
        }
      ]
    },
    {
      "cell_type": "markdown",
      "metadata": {
        "id": "el0GlJlKQkpJ"
      },
      "source": [
        "#Herencia\n",
        "pasando la clase base a la declaración"
      ]
    },
    {
      "cell_type": "code",
      "metadata": {
        "id": "AgAj2OOKLEuD",
        "outputId": "40a47904-108e-4a5b-81ae-12066798872a",
        "colab": {
          "base_uri": "https://localhost:8080/",
          "height": 104
        }
      },
      "source": [
        "class ServidorEmpresarial( Computadora ): # Herencia\n",
        "  def __init__( self ):\n",
        "    print(\"Hola Servidor\")\n",
        "\n",
        "server = ServidorEmpresarial()\n",
        "server.marca = \"Sun Micro Systems\"\n",
        "server.procesador = \"Intel i7\"\n",
        "print(server.to_string())"
      ],
      "execution_count": 29,
      "outputs": [
        {
          "output_type": "stream",
          "text": [
            "Hola Servidor\n",
            "--En el método set de Marca\n",
            "--En el método set de procesador\n",
            "Marca:\t\tSun Micro Systems\n",
            "Procesador:\tIntel i7\n"
          ],
          "name": "stdout"
        }
      ]
    },
    {
      "cell_type": "code",
      "metadata": {
        "id": "cXw74MENRTJu"
      },
      "source": [
        ""
      ],
      "execution_count": null,
      "outputs": []
    }
  ]
}