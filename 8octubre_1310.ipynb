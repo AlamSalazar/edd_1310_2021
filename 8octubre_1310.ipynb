{
  "nbformat": 4,
  "nbformat_minor": 0,
  "metadata": {
    "colab": {
      "name": "8octubre_1310.ipynb",
      "provenance": [],
      "authorship_tag": "ABX9TyMf2RDiGs+J05W6qvt7AG4J",
      "include_colab_link": true
    },
    "kernelspec": {
      "name": "python3",
      "display_name": "Python 3"
    }
  },
  "cells": [
    {
      "cell_type": "markdown",
      "metadata": {
        "id": "view-in-github",
        "colab_type": "text"
      },
      "source": [
        "<a href=\"https://colab.research.google.com/github/AlamSalazar/edd_1310_2021/blob/master/8octubre_1310.ipynb\" target=\"_parent\"><img src=\"https://colab.research.google.com/assets/colab-badge.svg\" alt=\"Open In Colab\"/></a>"
      ]
    },
    {
      "cell_type": "code",
      "metadata": {
        "id": "gd6wn8p4-rmC",
        "outputId": "5606ab22-6dbf-4116-fefb-6f5ff479d3ba",
        "colab": {
          "base_uri": "https://localhost:8080/",
          "height": 122
        }
      },
      "source": [
        "monitores =[[\"Samsung\",\"17.3 \\\"\",1024],[\"BenQ\",\"40\\\"\",2048]]\n",
        "procesadores = [[\"Intel\",\"i7\",3.4],[\"AMD\",\"razzer\",3.3],[\"Intel\",\"i3\",3.1]]\n",
        "memorias = [[\"Kingston\", \"8GB\",\"DDR4\"],[\"Kingston\", \"16GB\",\"DDR3\"],[\"ADATA\", \"32GB\",\"DDR4\"]]\n",
        "\n",
        "componentes = [monitores,procesadores,memorias]\n",
        "\n",
        "print(componentes)\n",
        "print(componentes[2][1][1])\n",
        "print(int(componentes[0][1][2])*2)\n",
        "print(componentes[1][1][1][1:4:1])\n",
        "print(componentes[2][2][0].lower())\n"
      ],
      "execution_count": 16,
      "outputs": [
        {
          "output_type": "stream",
          "text": [
            "[[['Samsung', '17.3 \"', 1024], ['BenQ', '40\"', 2048]], [['Intel', 'i7', 3.4], ['AMD', 'razzer', 3.3], ['Intel', 'i3', 3.1]], [['Kingston', '8GB', 'DDR4'], ['Kingston', '16GB', 'DDR3'], ['ADATA', '32GB', 'DDR4']]]\n",
            "16GB\n",
            "4096\n",
            "azz\n",
            "adata\n"
          ],
          "name": "stdout"
        }
      ]
    },
    {
      "cell_type": "code",
      "metadata": {
        "id": "h_iv-epz_YXg",
        "outputId": "fa3f03ff-dec3-4a93-954a-64e1fb6db8e3",
        "colab": {
          "base_uri": "https://localhost:8080/",
          "height": 214
        }
      },
      "source": [
        "frutas =[\"manzana\",\"pera\"]\n",
        "otras_frutas = [\"aguacate\",\"sandia\"]\n",
        "# + sobre listas\n",
        "print(frutas + otras_frutas)\n",
        "print(frutas)\n",
        "frutas=frutas + otras_frutas\n",
        "print(frutas)\n",
        "#función extend\n",
        "frutas.extend(otras_frutas)\n",
        "print(frutas)\n",
        "#función apend\n",
        "frutas.append(otras_frutas)\n",
        "print(frutas)\n",
        "\n"
      ],
      "execution_count": 25,
      "outputs": [
        {
          "output_type": "stream",
          "text": [
            "['manzana', 'pera', 'aguacate', 'sandia']\n",
            "['manzana', 'pera']\n",
            "['manzana', 'pera', 'aguacate', 'sandia']\n",
            "['manzana', 'pera', 'aguacate', 'sandia', 'aguacate', 'sandia']\n",
            "['manzana', 'pera', 'aguacate', 'sandia', 'aguacate', 'sandia', ['aguacate', 'sandia']]\n",
            "['azul', 'rojo', 'verde', 'violeta']\n",
            "['azul', 'rojo', 'verde', 'violeta']\n",
            "['azul', 'rojo', 'verde', 'violeta', 'rosa']\n",
            "['azul', 'rojo', 'verde', 'violeta', 'rosa']\n",
            "['azul', 'rojo', 'verde', 'violeta', 'rosa']\n"
          ],
          "name": "stdout"
        }
      ]
    },
    {
      "cell_type": "code",
      "metadata": {
        "id": "ZZkl9hTqJA6F",
        "outputId": "23ff09fb-a0d6-40e9-fb88-1e550debac2d",
        "colab": {
          "base_uri": "https://localhost:8080/",
          "height": 141
        }
      },
      "source": [
        "#copiar\n",
        "colores=[\"azul\",\"rojo\",\"verde\",\"violeta\"]\n",
        "otros_colores=colores\n",
        "print(colores)\n",
        "print(otros_colores)\n",
        "otros_colores.append(\"rosa\")\n",
        "print(colores)\n",
        "print(otros_colores) #no es una copia fisica, es apuntador\n",
        "\n",
        "#copia fisica\n",
        "unaMas=colores.copy()\n",
        "unaMas.append(\"gris\")\n",
        "print(unaMas)\n",
        "print(colores)\n",
        "\n",
        "#Unpaking de litas\n",
        "alumno=[\"Alam\",\"Salazar\",\"Hermosillo\",23,\"ICO\",8.5]\n",
        "#nombre=alumno[0]\n",
        "#paterno=[1]\n",
        "#etc.\n",
        "nombre,paterno,materno,edad,carrera,promedio=alumno\n",
        "print(f\"Alumno:{nombre} carrera: { carrera} promedio={promedio}\")\n"
      ],
      "execution_count": 28,
      "outputs": [
        {
          "output_type": "stream",
          "text": [
            "['azul', 'rojo', 'verde', 'violeta']\n",
            "['azul', 'rojo', 'verde', 'violeta']\n",
            "['azul', 'rojo', 'verde', 'violeta', 'rosa']\n",
            "['azul', 'rojo', 'verde', 'violeta', 'rosa']\n",
            "['azul', 'rojo', 'verde', 'violeta', 'rosa', 'gris']\n",
            "['azul', 'rojo', 'verde', 'violeta', 'rosa']\n",
            "Alumno:Alam carrera: ICO promedio=8.5\n"
          ],
          "name": "stdout"
        }
      ]
    },
    {
      "cell_type": "markdown",
      "metadata": {
        "id": "OhAcqS8lR2E3"
      },
      "source": [
        "#tuplas\n",
        "Conjunto de datos que están indexados\n",
        "- se declaran con ( )\n",
        "- selector con [ ] (igual que en las listas)\n",
        "- NO son mutables\n",
        "(lista de valores constantes)\n"
      ]
    },
    {
      "cell_type": "code",
      "metadata": {
        "id": "JaO2hyzMNsnI",
        "outputId": "c5aac825-ef27-4c89-9ad2-995f0dc5379a",
        "colab": {
          "base_uri": "https://localhost:8080/",
          "height": 70
        }
      },
      "source": [
        "precios=(99.9, 49.9, 12.45, 23.3, 33.44, 55.66)\n",
        "print(precios[1])\n",
        "#precios[1]=50 #No se puede modificar\n",
        "print(precios)\n",
        "print(precios[2:4])\n",
        "\n"
      ],
      "execution_count": 33,
      "outputs": [
        {
          "output_type": "stream",
          "text": [
            "49.9\n",
            "(99.9, 49.9, 12.45, 23.3, 33.44, 55.66)\n",
            "(12.45, 23.3)\n"
          ],
          "name": "stdout"
        }
      ]
    },
    {
      "cell_type": "markdown",
      "metadata": {
        "id": "ORcZnNeJToGG"
      },
      "source": [
        "#Diccionarios\n",
        "- Se declaran con llaves\n",
        "- Sí son mutables\n",
        "- Conjunto de pares de llave: valor\n",
        "- Equivalente a los Objetos JSON de JavaScript\n",
        "- selector [ str ]"
      ]
    },
    {
      "cell_type": "code",
      "metadata": {
        "id": "XfrSsjzjShic",
        "outputId": "1042ce4b-7490-40d6-c4c3-9554d8438554",
        "colab": {
          "base_uri": "https://localhost:8080/",
          "height": 125
        }
      },
      "source": [
        "cliente = {}\n",
        "print(cliente)\n",
        "alumno={ \"numCuenta\" :313094062}\n",
        "print(alumno)\n",
        "alumno = { \n",
        "          \"num_cta\" : 303030303 ,\n",
        "          \"carrera\" : \"ICO\",\n",
        "          \"promedio\" : 9.8,\n",
        "          \"materias\" :[\"EDD\",\"CyP\",\"Calidad\",\"Emprendimiento\"],\n",
        "          \"direccion\" : { \n",
        "                            \"calle\":\"rancho seco\",\n",
        "                            \"numero\" : 23 ,\n",
        "                            \"delegacion\" : \"Neza\",\n",
        "                            \"estado\" : {\n",
        "                                        \"id\" : 15 ,\n",
        "                                        \"nombre\" : \"Estado de Máxico\" ,\n",
        "                                        \"nombre_corto\" : \"EdoMex\"\n",
        "                                        } ,\n",
        "                            \"CP\":57170\n",
        "\n",
        "                        } \n",
        "          }\n",
        "print(alumno)\n",
        "print(alumno['materias'])\n",
        "print(alumno['direccion']['estado']['nombre_corto'])"
      ],
      "execution_count": 44,
      "outputs": [
        {
          "output_type": "stream",
          "text": [
            "{}\n",
            "{'numCuenta': 313094062}\n",
            "{'num_cta': 303030303, 'carrera': 'ICO', 'promedio': 9.8, 'materias': ['EDD', 'CyP', 'Calidad', 'Emprendimiento'], 'direccion': {'calle': 'rancho seco', 'numero': 23, 'delegacion': 'Neza', 'estado': {'id': 15, 'nombre': 'Estado de Máxico', 'nombre_corto': 'EdoMex'}, 'CP': 57170}}\n",
            "['EDD', 'CyP', 'Calidad', 'Emprendimiento']\n",
            "EdoMex\n"
          ],
          "name": "stdout"
        }
      ]
    },
    {
      "cell_type": "code",
      "metadata": {
        "id": "ZOr9I7U7UfKV"
      },
      "source": [
        ""
      ],
      "execution_count": null,
      "outputs": []
    }
  ]
}