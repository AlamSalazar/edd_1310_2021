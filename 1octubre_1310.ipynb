{
  "nbformat": 4,
  "nbformat_minor": 0,
  "metadata": {
    "colab": {
      "name": "1octubre_1310.ipynb",
      "provenance": [],
      "authorship_tag": "ABX9TyNEbRHsqbbiPZvFA6SD8gtJ",
      "include_colab_link": true
    },
    "kernelspec": {
      "name": "python3",
      "display_name": "Python 3"
    }
  },
  "cells": [
    {
      "cell_type": "markdown",
      "metadata": {
        "id": "view-in-github",
        "colab_type": "text"
      },
      "source": [
        "<a href=\"https://colab.research.google.com/github/AlamSalazar/edd_1310_2021/blob/master/1octubre_1310.ipynb\" target=\"_parent\"><img src=\"https://colab.research.google.com/assets/colab-badge.svg\" alt=\"Open In Colab\"/></a>"
      ]
    },
    {
      "cell_type": "markdown",
      "metadata": {
        "id": "-D2ON5d973FK"
      },
      "source": [
        "# Itro Python 3\n",
        "## Variables\n",
        "tipo dinámico\n"
      ]
    },
    {
      "cell_type": "code",
      "metadata": {
        "id": "x3ABewBK7Y8o"
      },
      "source": [
        "escuela = \"FES Aragón\" #si se usa una frase, poner \"...  ...\"\n",
        "print(escuela)\n",
        "print('-----------') #si se usa una sola palabra usar '...'\n",
        "edad=23\n",
        "estatura =1.79\n",
        "#fumador = true\n",
        "frase = \"\"\" \n",
        "Esta es \n",
        "una \n",
        "frase \n",
        "de multiples líneas \n",
        "y tambien es \n",
        "un tipo de dato\n",
        "\"\"\" #si se usan varias lineas usar \"\"\"\"...\"\"\"\"\n",
        "print (frase)\n",
        "nombre = 'Alam'\n",
        "nombreCompleto = \"Alam Salazar\""
      ],
      "execution_count": null,
      "outputs": []
    },
    {
      "cell_type": "markdown",
      "metadata": {
        "id": "bgeTrsdT93fa"
      },
      "source": [
        "# Print\n",
        "con comas ,\n",
        "con signo mas +\n",
        "con formato ()\n",
        "con el operador f\""
      ]
    },
    {
      "cell_type": "code",
      "metadata": {
        "id": "TSgv8N6I-Rnb",
        "outputId": "2e751e6b-830a-45ba-e58a-6d61a56d80a1",
        "colab": {
          "base_uri": "https://localhost:8080/",
          "height": 34
        }
      },
      "source": [
        "  print (nombre,edad) #comas"
      ],
      "execution_count": 7,
      "outputs": [
        {
          "output_type": "stream",
          "text": [
            "Alam 23\n"
          ],
          "name": "stdout"
        }
      ]
    },
    {
      "cell_type": "code",
      "metadata": {
        "id": "TVSUliyq_ACv",
        "outputId": "0d6f5c73-5c4f-461f-d2cd-4722a742f46b",
        "colab": {
          "base_uri": "https://localhost:8080/",
          "height": 51
        }
      },
      "source": [
        "print (nombre + str(edad)) #más (concatena)\n",
        "print (nombre + nombreCompleto)"
      ],
      "execution_count": 10,
      "outputs": [
        {
          "output_type": "stream",
          "text": [
            "Alam23\n",
            "AlamAlam Salazar\n"
          ],
          "name": "stdout"
        }
      ]
    },
    {
      "cell_type": "code",
      "metadata": {
        "id": "SgifbIi5_ReZ",
        "outputId": "2481fb54-681c-4086-c6b0-6727cdbba227",
        "colab": {
          "base_uri": "https://localhost:8080/",
          "height": 85
        }
      },
      "source": [
        "#con formato -> Su nombre es Alam y su edad es de 23 años.\n",
        "print(\"Su nombre es\", nombre,\"y su edad es de\",edad,\"años.\")\n",
        "print(\"Su nombre es {0} y su edad es de {1} años.\". format(nombre, edad) )\n",
        "print(\"Su nombre es {1} y su edad es de {0} años.\". format(nombre, edad) )\n",
        "print(\"Su nombre es {} y su edad es de {} años.\". format(nombre, edad) )"
      ],
      "execution_count": 14,
      "outputs": [
        {
          "output_type": "stream",
          "text": [
            "Su nombre es Alam y su edad es de 23 años.\n",
            "Su nombre es Alam y su edad es de 23 años.\n",
            "Su nombre es 23 y su edad es de Alam años.\n",
            "Su nombre es Alam y su edad es de 23 años.\n"
          ],
          "name": "stdout"
        }
      ]
    },
    {
      "cell_type": "code",
      "metadata": {
        "id": "9VsYuRKqByiZ",
        "outputId": "5f9a6f07-f58f-45ce-c2ef-97fb72eb0875",
        "colab": {
          "base_uri": "https://localhost:8080/",
          "height": 34
        }
      },
      "source": [
        "#con formato con el operador f\"\n",
        "print(f\"su nombre es {nombre} y su edad es de {edad} años.\")"
      ],
      "execution_count": 15,
      "outputs": [
        {
          "output_type": "stream",
          "text": [
            "su nombre es Alam y su edad es de 23 años.\n"
          ],
          "name": "stdout"
        }
      ]
    },
    {
      "cell_type": "markdown",
      "metadata": {
        "id": "18nfYmCzChJg"
      },
      "source": [
        "# Caracter de escape\n",
        "\\n salto de linea\n",
        "\\t tabulador\n",
        "\\a beep\n",
        "\\\" \\' comillas en texto\n",
        "\\\\ la misma diagonal\n",
        "etc."
      ]
    },
    {
      "cell_type": "code",
      "metadata": {
        "id": "RHfR7i8RCVJI",
        "outputId": "2cd3893f-2e61-44d4-dcc3-0bef8b940e2b",
        "colab": {
          "base_uri": "https://localhost:8080/",
          "height": 51
        }
      },
      "source": [
        "\"\"\"\n",
        "para hacer comentarios\n",
        "en multiple linea,\n",
        "se puede realizar como\n",
        "en el anterior print\n",
        "\"\"\"\n",
        "print (f\"\\tMi nombre es \\n\\t\\t{nombre}\")"
      ],
      "execution_count": 17,
      "outputs": [
        {
          "output_type": "stream",
          "text": [
            "\tMi nombre es \n",
            "\t\tAlam\u0007\n"
          ],
          "name": "stdout"
        }
      ]
    },
    {
      "cell_type": "markdown",
      "metadata": {
        "id": "sZXjLL_cEJ-P"
      },
      "source": [
        "#Ayuda en tipos de datos en Python\n",
        "dir()\n",
        "help()"
      ]
    },
    {
      "cell_type": "code",
      "metadata": {
        "id": "rmeoc1qZESmi"
      },
      "source": [
        "#str, int,float,bool....list,dict,set\n",
        "help(str)\n",
        "dir(str)"
      ],
      "execution_count": null,
      "outputs": []
    },
    {
      "cell_type": "code",
      "metadata": {
        "id": "HFExwNC7FTrJ",
        "outputId": "c2a7bf9b-01a1-4a07-ebae-0304fcda4b05",
        "colab": {
          "base_uri": "https://localhost:8080/",
          "height": 119
        }
      },
      "source": [
        "print(nombreCompleto.capitalize())\n",
        "print(nombreCompleto.upper())\n",
        "print(nombreCompleto.title())\n",
        "\n",
        "print(\"\\n\\n\",nombreCompleto.upper(), end=\" Hola\")\n",
        "print(\"Mundo\")"
      ],
      "execution_count": 25,
      "outputs": [
        {
          "output_type": "stream",
          "text": [
            "Alam salazar\n",
            "ALAM SALAZAR\n",
            "Alam Salazar\n",
            "\n",
            "\n",
            " ALAM SALAZAR HolaMundo\n"
          ],
          "name": "stdout"
        }
      ]
    },
    {
      "cell_type": "code",
      "metadata": {
        "id": "4iDY6j3iHVbw"
      },
      "source": [
        ""
      ],
      "execution_count": null,
      "outputs": []
    },
    {
      "cell_type": "markdown",
      "metadata": {
        "id": "ORwKFRrjHQWv"
      },
      "source": [
        "#Clase String\n",
        "es manejada como un arreglo(c o java) o lista(python)\n",
        "\n",
        "```\n",
        "# telefono = \"Huawei mate 30 pro\"\n",
        "```\n",
        "\n",
        "\n",
        "\n"
      ]
    },
    {
      "cell_type": "code",
      "metadata": {
        "id": "Jv2oZNlbIEbJ",
        "outputId": "ae729e6f-e0f8-4a0f-93af-63eac76e9c85",
        "colab": {
          "base_uri": "https://localhost:8080/",
          "height": 34
        }
      },
      "source": [
        "telefono = \"Huawei mate 30 pro\"\n",
        "print(telefono[5])"
      ],
      "execution_count": 30,
      "outputs": [
        {
          "output_type": "stream",
          "text": [
            "i\n"
          ],
          "name": "stdout"
        }
      ]
    },
    {
      "cell_type": "markdown",
      "metadata": {
        "id": "DHQDlC_w70mp"
      },
      "source": [
        "#Slicing (rebanado)\n",
        "`[ini:stop:incremento]`\n",
        "nota, el stop no se incluye, termina en el valor anterior stop"
      ]
    },
    {
      "cell_type": "code",
      "metadata": {
        "id": "Q6FhfJRjInAV",
        "outputId": "06dce971-8bf9-49dc-de89-12b7535c3499",
        "colab": {
          "base_uri": "https://localhost:8080/",
          "height": 119
        }
      },
      "source": [
        "print(telefono[7:11:1])\n",
        "#El inicio y el incremento son opcionales\n",
        "print(telefono[:11:])\n",
        "#El valor por defercto de stop es len(str)\n",
        "print(telefono[::])\n",
        "#incremento negativo\n",
        "print(telefono[::-1])\n",
        "print(telefono[-3::])\n",
        "ini = -3\n",
        "inc = 1\n",
        "print(telefono[ini::inc])"
      ],
      "execution_count": 40,
      "outputs": [
        {
          "output_type": "stream",
          "text": [
            "mate\n",
            "Huawei mate\n",
            "Huawei mate 30 pro\n",
            "orp 03 etam iewauH\n",
            "pro\n",
            "pro\n"
          ],
          "name": "stdout"
        }
      ]
    },
    {
      "cell_type": "markdown",
      "metadata": {
        "id": "k20-hvx0NQTb"
      },
      "source": [
        "#Metodos de String(str)\n",
        "Existen métodos muy útiles en esta clase."
      ]
    },
    {
      "cell_type": "code",
      "metadata": {
        "id": "ts6iIQEOI7J1",
        "outputId": "b836d3d5-b0d0-4ca8-b79a-200d071c41ec",
        "colab": {
          "base_uri": "https://localhost:8080/",
          "height": 391
        }
      },
      "source": [
        "facultad = \"     facultad de estudios superiores aragon     \"\n",
        "print(facultad)\n",
        "print(facultad.count(\" \")) #cuenta la cantidad de caracteres\n",
        "print(facultad.find(\"s\")) #busca el indice del caracter en la cadena\n",
        "print(len(facultad)) #tamaño de la cadena\n",
        "print(\"-------\")\n",
        "\n",
        "print(facultad.strip(\" \")) #quita los espacios al principio y final\n",
        "print(facultad.lstrip(\" \")) #izquierda\n",
        "print(facultad.rstrip(\" \")) #derecha\n",
        "print(\"-------\")\n",
        "\n",
        "print(facultad)\n",
        "print(facultad.strip().split(\" \"))\n",
        "print(\"-------\")\n",
        "\n",
        "print(facultad)\n",
        "otraCadena = facultad #Copiar cadenas\n",
        "print(otraCadena)\n",
        "otraCadena=\"FES Aragon\"\n",
        "print(facultad)\n",
        "print(otraCadena)\n",
        "print(\"-------\")\n",
        "\n",
        "print(facultad)\n",
        "colores = [\"rojo\",\"verde\"]\n",
        "otra = colores.copy()\n",
        "print(colores)\n",
        "print(otra)\n",
        "otra.append(\"rosa\")\n",
        "print(colores)\n",
        "print(otra)"
      ],
      "execution_count": 57,
      "outputs": [
        {
          "output_type": "stream",
          "text": [
            "     facultad de estudios superiores aragon     \n",
            "14\n",
            "18\n",
            "48\n",
            "-------\n",
            "facultad de estudios superiores aragon\n",
            "facultad de estudios superiores aragon     \n",
            "     facultad de estudios superiores aragon\n",
            "-------\n",
            "     facultad de estudios superiores aragon     \n",
            "['facultad', 'de', 'estudios', 'superiores', 'aragon']\n",
            "-------\n",
            "     facultad de estudios superiores aragon     \n",
            "     facultad de estudios superiores aragon     \n",
            "     facultad de estudios superiores aragon     \n",
            "FES Aragon\n",
            "-------\n",
            "     facultad de estudios superiores aragon     \n",
            "['rojo', 'verde']\n",
            "['rojo', 'verde']\n",
            "['rojo', 'verde']\n",
            "['rojo', 'verde', 'rosa']\n"
          ],
          "name": "stdout"
        }
      ]
    },
    {
      "cell_type": "code",
      "metadata": {
        "id": "445jC4NFN9bl"
      },
      "source": [
        ""
      ],
      "execution_count": null,
      "outputs": []
    }
  ]
}