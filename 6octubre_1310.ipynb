{
  "nbformat": 4,
  "nbformat_minor": 0,
  "metadata": {
    "colab": {
      "name": "6octubre_1310.ipynb",
      "provenance": [],
      "authorship_tag": "ABX9TyO13BPSzHeIoMNViAOXa91f",
      "include_colab_link": true
    },
    "kernelspec": {
      "name": "python3",
      "display_name": "Python 3"
    }
  },
  "cells": [
    {
      "cell_type": "markdown",
      "metadata": {
        "id": "view-in-github",
        "colab_type": "text"
      },
      "source": [
        "<a href=\"https://colab.research.google.com/github/AlamSalazar/edd_1310_2021/blob/master/6octubre_1310.ipynb\" target=\"_parent\"><img src=\"https://colab.research.google.com/assets/colab-badge.svg\" alt=\"Open In Colab\"/></a>"
      ]
    },
    {
      "cell_type": "markdown",
      "metadata": {
        "id": "JmSbNqrVqpy7"
      },
      "source": [
        "# String continuación\n",
        "---\n"
      ]
    },
    {
      "cell_type": "code",
      "metadata": {
        "id": "28GOVOmWqbyo",
        "outputId": "e1f68140-1060-49dd-f505-1f4c2a830b76",
        "colab": {
          "base_uri": "https://localhost:8080/",
          "height": 68
        }
      },
      "source": [
        "numeros_txt = \"   1, 2, 3, 4    , 5    ,   35 , 15    , 12 \"\n",
        "print(numeros_txt)\n",
        "numeros_txt = numeros_txt.lstrip().split(',')\n",
        "print(numeros_txt)\n",
        "\n",
        "for j in range(len(numeros_txt)):\n",
        "  numeros_txt[j]=int(numeros_txt[j].strip())\n",
        "print(numeros_txt)"
      ],
      "execution_count": 6,
      "outputs": [
        {
          "output_type": "stream",
          "text": [
            "   1, 2, 3, 4    , 5    ,   35 , 15    , 12 \n",
            "['1', ' 2', ' 3', ' 4    ', ' 5    ', '   35 ', ' 15    ', ' 12 ']\n",
            "[1, 2, 3, 4, 5, 35, 15, 12]\n"
          ],
          "name": "stdout"
        }
      ]
    },
    {
      "cell_type": "markdown",
      "metadata": {
        "id": "hf1jyD2lqhXh"
      },
      "source": [
        ""
      ]
    },
    {
      "cell_type": "markdown",
      "metadata": {
        "id": "F3-jTWn9v64F"
      },
      "source": [
        "# Funcion range()\n",
        "---\n",
        "```\n",
        "# range(inicio,stop,incremento)\n",
        "```\n",
        "\n"
      ]
    },
    {
      "cell_type": "code",
      "metadata": {
        "id": "OgLymqC7v_LS",
        "outputId": "1d1e3ba9-f1e2-4582-a633-3d8f1736f592",
        "colab": {
          "base_uri": "https://localhost:8080/",
          "height": 180
        }
      },
      "source": [
        "#print(range(1,10,3))\n",
        "rango = range(1,10,2)\n"
      ],
      "execution_count": 43,
      "outputs": [
        {
          "output_type": "error",
          "ename": "TypeError",
          "evalue": "ignored",
          "traceback": [
            "\u001b[0;31m---------------------------------------------------------------------------\u001b[0m",
            "\u001b[0;31mTypeError\u001b[0m                                 Traceback (most recent call last)",
            "\u001b[0;32m<ipython-input-43-50d987ad6dfb>\u001b[0m in \u001b[0;36m<module>\u001b[0;34m()\u001b[0m\n\u001b[1;32m      1\u001b[0m \u001b[0;31m#print(range(1,10,3))\u001b[0m\u001b[0;34m\u001b[0m\u001b[0;34m\u001b[0m\u001b[0;34m\u001b[0m\u001b[0m\n\u001b[0;32m----> 2\u001b[0;31m \u001b[0mrango\u001b[0m\u001b[0;34m=\u001b[0m \u001b[0mrange\u001b[0m\u001b[0;34m(\u001b[0m\u001b[0;36m1\u001b[0m\u001b[0;34m,\u001b[0m\u001b[0;36m10\u001b[0m\u001b[0;34m,\u001b[0m\u001b[0;36m2\u001b[0m\u001b[0;34m)\u001b[0m\u001b[0;34m\u001b[0m\u001b[0;34m\u001b[0m\u001b[0m\n\u001b[0m",
            "\u001b[0;31mTypeError\u001b[0m: 'range' object is not callable"
          ]
        }
      ]
    },
    {
      "cell_type": "code",
      "metadata": {
        "id": "aaNfpk0K5GTo"
      },
      "source": [
        "rango= range(1,10,2)\n",
        "for x in rango:\n",
        "  print(x)\n",
        "\n",
        "rango=range(10)"
      ],
      "execution_count": null,
      "outputs": []
    },
    {
      "cell_type": "markdown",
      "metadata": {
        "id": "4EBfSCcAxRvn"
      },
      "source": [
        "# Listas\n",
        "- Mutables\n",
        "- Declaradas con [ ]\n",
        "- Seelector [ int ]\n",
        "#Tuplas\n",
        "- NO mutables\n",
        "- Declaran con ( )\n",
        "- Selectos [ int ]\n",
        "# Diccionarios\n",
        "- Son mutables\n",
        "- Son conjunto de pares llave:valor\n",
        "- Equivalentes a los objetos JSON de JavaScript\n",
        "# Conjuntos\n",
        "- Representacion de la teoria de conjuntos\n",
        "\n"
      ]
    },
    {
      "cell_type": "code",
      "metadata": {
        "id": "cg31Af_fwQDQ",
        "outputId": "22f71fcc-fcd3-4e8b-cdbf-1ae02b7ccd95",
        "colab": {
          "base_uri": "https://localhost:8080/",
          "height": 153
        }
      },
      "source": [
        "#Listas\n",
        "frutas = [\"pera\",\"manzana\",\"fresa\",\"kiwi\",\"naranja\"]\n",
        "print(frutas)\n",
        "#Se puede meter cualquier variable\n",
        "cosas = [\"cuaderno\", 2, 3.1416, True, False, [\"colores\",\"azul\"]]\n",
        "print(cosas)\n",
        "frutas[2]=\"Fresa\" #frutas[2]=frutas[2].capitalize()\n",
        "frutas[3]=frutas[3].capitalize()\n",
        "print(frutas)\n",
        "\n",
        "#agregar a lista\n",
        "frutas.append(\"Aguacate\") #meter al final de la lista .append(variable)\n",
        "print(frutas)\n",
        "frutas.insert(2,\"Sandia\") #meter entre otras variables .insert(posicion, variable)\n",
        "print(frutas)\n",
        "\n",
        "fecha=[\"06\",\"10\",\"2020\"] # 06/10/2020\n",
        "print(fecha)\n",
        "fecha_str = \"/\".join(fecha)\n",
        "print(fecha_str)\n"
      ],
      "execution_count": 29,
      "outputs": [
        {
          "output_type": "stream",
          "text": [
            "['pera', 'manzana', 'fresa', 'kiwi', 'naranja']\n",
            "['cuaderno', 2, 3.1416, True, False, ['colores', 'azul']]\n",
            "['pera', 'manzana', 'Fresa', 'Kiwi', 'naranja']\n",
            "['pera', 'manzana', 'Fresa', 'Kiwi', 'naranja', 'Aguacate']\n",
            "['pera', 'manzana', 'Sandia', 'Fresa', 'Kiwi', 'naranja', 'Aguacate']\n",
            "['06', '10', '2020']\n",
            "06/10/2020\n",
            "['cuaderno', 2, 3.1416, True, False, ['colores', 'azul']]\n"
          ],
          "name": "stdout"
        }
      ]
    },
    {
      "cell_type": "code",
      "metadata": {
        "id": "DuVO-uAlxPb-",
        "outputId": "be4692ff-f11c-4dc7-f8ff-0ef52931932c",
        "colab": {
          "base_uri": "https://localhost:8080/",
          "height": 153
        }
      },
      "source": [
        "#Eliminar elementos\n",
        "cosas = [\"cuaderno\", 2, 3.1416, True, False, [\"colores\",\"azul\"]]\n",
        "print(cosas)\n",
        "cosas.append(\"Libro\")\n",
        "cosas.append(\"Lapiz\")\n",
        "print(cosas)\n",
        "algo=cosas.pop() #Elimina cosas .pop(default last)\n",
        "print(cosas)\n",
        "print(algo)#guarda lo elimindo en una variable\n",
        "algo2=cosas.pop(2) #Elimina cosas .pop(lugar del valor)\n",
        "print(cosas)\n",
        "print(algo, algo2)\n",
        " \n",
        "##Vaciar una lista\n",
        "#cosas.clear()\n",
        "#print(cosas)\n",
        "\n",
        "#Ordenar listas\n",
        "print(frutas)\n",
        "frutas.sort()\n",
        "print(frutas)\n"
      ],
      "execution_count": 50,
      "outputs": [
        {
          "output_type": "stream",
          "text": [
            "['cuaderno', 2, 3.1416, True, False, ['colores', 'azul']]\n",
            "['cuaderno', 2, 3.1416, True, False, ['colores', 'azul'], 'Libro', 'Lapiz']\n",
            "['cuaderno', 2, 3.1416, True, False, ['colores', 'azul'], 'Libro']\n",
            "Lapiz\n",
            "['cuaderno', 2, True, False, ['colores', 'azul'], 'Libro']\n",
            "Lapiz 3.1416\n",
            "['Aguacate', 'Fresa', 'Kiwi', 'Sandia', 'manzana', 'naranja', 'pera']\n",
            "['Aguacate', 'Fresa', 'Kiwi', 'Sandia', 'manzana', 'naranja', 'pera']\n"
          ],
          "name": "stdout"
        }
      ]
    },
    {
      "cell_type": "code",
      "metadata": {
        "id": "Fe4nVRFg3VpV",
        "outputId": "ec82afa4-f9bc-4018-a923-060d1020f342",
        "colab": {
          "base_uri": "https://localhost:8080/",
          "height": 299
        }
      },
      "source": [
        "# Slicing\n",
        "cosas = [\"cuaderno\", 2, 3.1416, True, False, [\"colores\",\"azul\"]]\n",
        "print(cosas[3:5:1])\n",
        "print(cosas)\n",
        "print(cosas[0][3:5:1]) #se selecciona un lugar y una cantidad\n",
        "numeros = (1,2,3,4,5,6,7,8,9,10,11,12,13,14,15)\n",
        "print(numeros[7:12:1])\n",
        "\n",
        "#Sustituir rebanadas  -2,-2  -> (1,2,3,4,5,6,7,-2,-2,13,14,15)\n",
        "numeros[7:12:1] = [-2,-2]\n",
        "print(numeros)\n",
        "\n",
        "#preguntar por existencia\n",
        "print( -2 in numeros)\n"
      ],
      "execution_count": 76,
      "outputs": [
        {
          "output_type": "stream",
          "text": [
            "[True, False]\n",
            "['cuaderno', 2, 3.1416, True, False, ['colores', 'azul']]\n",
            "de\n",
            "(8, 9, 10, 11, 12)\n"
          ],
          "name": "stdout"
        },
        {
          "output_type": "error",
          "ename": "TypeError",
          "evalue": "ignored",
          "traceback": [
            "\u001b[0;31m---------------------------------------------------------------------------\u001b[0m",
            "\u001b[0;31mTypeError\u001b[0m                                 Traceback (most recent call last)",
            "\u001b[0;32m<ipython-input-76-cccf7cbedffb>\u001b[0m in \u001b[0;36m<module>\u001b[0;34m()\u001b[0m\n\u001b[1;32m      8\u001b[0m \u001b[0;34m\u001b[0m\u001b[0m\n\u001b[1;32m      9\u001b[0m \u001b[0;31m#Sustituir rebanadas  -2,-2  -> (1,2,3,4,5,6,7,-2,-2,13,14,15)\u001b[0m\u001b[0;34m\u001b[0m\u001b[0;34m\u001b[0m\u001b[0;34m\u001b[0m\u001b[0m\n\u001b[0;32m---> 10\u001b[0;31m \u001b[0mnumeros\u001b[0m\u001b[0;34m[\u001b[0m\u001b[0;36m7\u001b[0m\u001b[0;34m:\u001b[0m\u001b[0;36m12\u001b[0m\u001b[0;34m:\u001b[0m\u001b[0;36m1\u001b[0m\u001b[0;34m]\u001b[0m \u001b[0;34m=\u001b[0m \u001b[0;34m[\u001b[0m\u001b[0;34m-\u001b[0m\u001b[0;36m2\u001b[0m\u001b[0;34m,\u001b[0m\u001b[0;34m-\u001b[0m\u001b[0;36m2\u001b[0m\u001b[0;34m]\u001b[0m\u001b[0;34m\u001b[0m\u001b[0;34m\u001b[0m\u001b[0m\n\u001b[0m\u001b[1;32m     11\u001b[0m \u001b[0mprint\u001b[0m\u001b[0;34m(\u001b[0m\u001b[0mnumeros\u001b[0m\u001b[0;34m)\u001b[0m\u001b[0;34m\u001b[0m\u001b[0;34m\u001b[0m\u001b[0m\n\u001b[1;32m     12\u001b[0m \u001b[0;34m\u001b[0m\u001b[0m\n",
            "\u001b[0;31mTypeError\u001b[0m: 'tuple' object does not support item assignment"
          ]
        }
      ]
    },
    {
      "cell_type": "markdown",
      "metadata": {
        "id": "VcZ2hpi7-jMp"
      },
      "source": [
        "#Listas multidimencionales\n",
        "---\n",
        "listas dentro de listas"
      ]
    },
    {
      "cell_type": "code",
      "metadata": {
        "id": "IApKkmYy7hpW",
        "outputId": "a447bbb7-8ea6-4104-d8e9-17dee6205414",
        "colab": {
          "base_uri": "https://localhost:8080/",
          "height": 190
        }
      },
      "source": [
        "computadoras = [\"HP\",\"Mac Book Pro 17\", \"Mate book\",\"Lenovo Legion\"]\n",
        "oss = [\"Windows 10\",\"Linux\",\"Android\",\"iOS\"]\n",
        "computo = [computadoras, oss]\n",
        "print(computo[0])\n",
        "print(computo[1])\n",
        "print(computo[0][2])\n",
        "print(computo[0][2][:5:])\n",
        "print(computo[0][3][5::-1]) #Lenovo invertido\n",
        "print(computo[0][3][-8::-1]) #Lenovo invertido\n",
        "\n",
        "dbms = [[\"mysql\",\"Open Source\",False],[\"MS SQL Server\", \"de paga\", True]]\n",
        "computo.append(dbms)\n",
        "print(computo)\n",
        "print(computo[2][0][0])\n",
        "print(computo[2][1][1])"
      ],
      "execution_count": 79,
      "outputs": [
        {
          "output_type": "stream",
          "text": [
            "['HP', 'Mac Book Pro 17', 'Mate book', 'Lenovo Legion']\n",
            "['Windows 10', 'Linux', 'Android', 'iOS']\n",
            "Mate book\n",
            "Mate \n",
            "ovoneL\n",
            "ovoneL\n",
            "[['HP', 'Mac Book Pro 17', 'Mate book', 'Lenovo Legion'], ['Windows 10', 'Linux', 'Android', 'iOS'], [['mysql', 'Open Source', False], ['MS SQL Server', 'de paga', True]]]\n",
            "mysql\n",
            "de paga\n"
          ],
          "name": "stdout"
        }
      ]
    },
    {
      "cell_type": "code",
      "metadata": {
        "id": "ZkQ_AV8Y_uv7"
      },
      "source": [
        ""
      ],
      "execution_count": null,
      "outputs": []
    }
  ]
}