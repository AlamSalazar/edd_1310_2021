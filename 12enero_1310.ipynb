{
  "nbformat": 4,
  "nbformat_minor": 0,
  "metadata": {
    "colab": {
      "name": "12enero_1310.ipynb",
      "provenance": [],
      "authorship_tag": "ABX9TyM1eQKcNQdOB72cZbDts5Ij",
      "include_colab_link": true
    },
    "kernelspec": {
      "name": "python3",
      "display_name": "Python 3"
    }
  },
  "cells": [
    {
      "cell_type": "markdown",
      "metadata": {
        "id": "view-in-github",
        "colab_type": "text"
      },
      "source": [
        "<a href=\"https://colab.research.google.com/github/AlamSalazar/edd_1310_2021/blob/master/12enero_1310.ipynb\" target=\"_parent\"><img src=\"https://colab.research.google.com/assets/colab-badge.svg\" alt=\"Open In Colab\"/></a>"
      ]
    },
    {
      "cell_type": "code",
      "metadata": {
        "colab": {
          "base_uri": "https://localhost:8080/"
        },
        "id": "26ZX1YCD8rt8",
        "outputId": "163d78c3-c811-4c6b-e267-3151e01b925f"
      },
      "source": [
        "def factorial( n ):\r\n",
        "    if n == 0:\r\n",
        "        return 1\r\n",
        "    else:\r\n",
        "        return factorial(n-1)*n\r\n",
        "\r\n",
        "def printRev( n ):\r\n",
        "    if n > 0:\r\n",
        "        print( n, \"| \" ,end=\"\")\r\n",
        "        printRev( n-1 )\r\n",
        "        \r\n",
        "def printRevInv( n ):\r\n",
        "    if n > 0:\r\n",
        "        printRevInv( n-1 )\r\n",
        "        print( n, \"| \" ,end=\"\")\r\n",
        "\r\n",
        "def fibonacci(n):\r\n",
        "    if n==0 or n==1:\r\n",
        "        return n\r\n",
        "    if n > 1:\r\n",
        "        return (fibonacci(n-1) + fibonacci(n-2))\r\n",
        "\r\n",
        "def main(num):\r\n",
        "    num+=1\r\n",
        "    for x in range(0,num,1):\r\n",
        "        r = factorial(x)\r\n",
        "        print(f\"El factorial de {x} es {r}\")\r\n",
        "def main2():\r\n",
        "    printRev(5)\r\n",
        "    print(\"\\n\")\r\n",
        "    printRevInv(5)\r\n",
        "\r\n",
        "def main3(f):\r\n",
        "    for num in range(f):\r\n",
        "        print(str(fibonacci(num)) + \",\",end=\"\")\r\n",
        "\r\n",
        "main(5)\r\n",
        "print(\"-------------\")\r\n",
        "main2()\r\n",
        "print(\"\\n-------------\")\r\n",
        "main3(11)\r\n",
        "\r\n",
        "\r\n",
        "    \r\n"
      ],
      "execution_count": 6,
      "outputs": [
        {
          "output_type": "stream",
          "text": [
            "El factorial de 0 es 1\n",
            "El factorial de 1 es 1\n",
            "El factorial de 2 es 2\n",
            "El factorial de 3 es 6\n",
            "El factorial de 4 es 24\n",
            "El factorial de 5 es 120\n",
            "-------------\n",
            "5 | 4 | 3 | 2 | 1 | \n",
            "\n",
            "1 | 2 | 3 | 4 | 5 | \n",
            "-------------\n",
            "0,1,1,2,3,5,8,13,21,34,55,"
          ],
          "name": "stdout"
        }
      ]
    },
    {
      "cell_type": "code",
      "metadata": {
        "id": "VCcXCBZc8wHh"
      },
      "source": [
        ""
      ],
      "execution_count": 21,
      "outputs": []
    }
  ]
}