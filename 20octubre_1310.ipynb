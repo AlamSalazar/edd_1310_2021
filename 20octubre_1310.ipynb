{
  "nbformat": 4,
  "nbformat_minor": 0,
  "metadata": {
    "colab": {
      "name": "20octubre_1310.ipynb",
      "provenance": [],
      "authorship_tag": "ABX9TyM9u7DQjbKxrDPHerFhNfAk",
      "include_colab_link": true
    },
    "kernelspec": {
      "name": "python3",
      "display_name": "Python 3"
    }
  },
  "cells": [
    {
      "cell_type": "markdown",
      "metadata": {
        "id": "view-in-github",
        "colab_type": "text"
      },
      "source": [
        "<a href=\"https://colab.research.google.com/github/AlamSalazar/edd_1310_2021/blob/master/20octubre_1310.ipynb\" target=\"_parent\"><img src=\"https://colab.research.google.com/assets/colab-badge.svg\" alt=\"Open In Colab\"/></a>"
      ]
    },
    {
      "cell_type": "code",
      "metadata": {
        "id": "b8pXKL4EvZ-P"
      },
      "source": [
        "archivo = open('numeros.txt',\"wt\")\n",
        "archivo.write(\"22 , 23 , 44 , 55 , 5 \\n 44 , 4 , 5 , 7 , 7 \\n 6 , 5 , 4 , 2 , 1\")\n",
        "archivo.close()\n",
        "\n",
        "archivo = open('numeros.txt','rt')\n",
        "for linea in archivo.readlines():\n",
        "  #print(linea)\n",
        "  for trunc in linea.split(','):\n",
        "    print(int(trunc.strip()))\n"
      ],
      "execution_count": null,
      "outputs": []
    },
    {
      "cell_type": "markdown",
      "metadata": {
        "id": "3QXwO3Gq2vtL"
      },
      "source": [
        "#Sintaxis del for en Python\n",
        "\n",
        "dos versiones de for\n",
        "  1. range\n",
        "  2. in iterator\n"
      ]
    },
    {
      "cell_type": "code",
      "metadata": {
        "id": "zVEO8N5bzw4N",
        "outputId": "bdd31d05-1504-442a-dae7-a35c4e727b57",
        "colab": {
          "base_uri": "https://localhost:8080/",
          "height": 433
        }
      },
      "source": [
        "r = range(0,10,2)\n",
        "for x in r:\n",
        "  print(x) #stop no se incluye(10)\n",
        "\n",
        "colores = ['rojo','rosa','azul','fucsia'] #es unn iterable, porque está indexado\n",
        "\n",
        "#for indice in range(0,4,1): #for(indice=0; indice < 4; indice++)\n",
        "#  print(colores[indice])\n",
        "print(\"--------------------\")\n",
        "for indice in range(0,len(colores),1):\n",
        "  print(colores[indice])\n",
        "print(\"--------------------\")\n",
        "for col in colores: #Es lo mismo\n",
        "  print(col)\n",
        "print(\"--------------------\")\n",
        "for indice in range(0,len(colores),1):\n",
        "  colores[indice]=colores[indice].upper()\n",
        "  print(colores[indice])\n",
        "\n",
        "  colores[indice]=\"Blanco\"\n",
        "  print(colores[indice])\n"
      ],
      "execution_count": 25,
      "outputs": [
        {
          "output_type": "stream",
          "text": [
            "0\n",
            "2\n",
            "4\n",
            "6\n",
            "8\n",
            "--------------------\n",
            "rojo\n",
            "rosa\n",
            "azul\n",
            "fucsia\n",
            "--------------------\n",
            "rojo\n",
            "rosa\n",
            "azul\n",
            "fucsia\n",
            "--------------------\n",
            "ROJO\n",
            "Blanco\n",
            "ROSA\n",
            "Blanco\n",
            "AZUL\n",
            "Blanco\n",
            "FUCSIA\n",
            "Blanco\n"
          ],
          "name": "stdout"
        }
      ]
    },
    {
      "cell_type": "markdown",
      "metadata": {
        "id": "-SamY9Zf79Zr"
      },
      "source": [
        "#Generadores\n",
        "\n",
        "\n",
        "```\n",
        "[ valor for x in range(n) ]\n",
        "```\n",
        "\n"
      ]
    },
    {
      "cell_type": "code",
      "metadata": {
        "id": "CjZwubl22-Vs",
        "outputId": "6e4e637e-b808-420b-dc2e-15d69dc65745",
        "colab": {
          "base_uri": "https://localhost:8080/",
          "height": 106
        }
      },
      "source": [
        "lista = [0 for x in range(10)]\n",
        "print(lista)\n",
        "lista = [x for x in range(10)]\n",
        "print(lista)\n",
        "lista = [(\"Hola\",x) for x in range(10)]\n",
        "print(lista)\n"
      ],
      "execution_count": 40,
      "outputs": [
        {
          "output_type": "stream",
          "text": [
            "[0, 0, 0, 0, 0, 0, 0, 0, 0, 0]\n",
            "[0, 1, 2, 3, 4, 5, 6, 7, 8, 9]\n",
            "[('Hola', 0), ('Hola', 1), ('Hola', 2), ('Hola', 3), ('Hola', 4), ('Hola', 5), ('Hola', 6), ('Hola', 7), ('Hola', 8), ('Hola', 9)]\n",
            "<generator object <genexpr> at 0x7fc338e367d8>\n"
          ],
          "name": "stdout"
        }
      ]
    },
    {
      "cell_type": "code",
      "metadata": {
        "id": "d2ugAQF48a7m",
        "outputId": "c4d41f99-1450-4bd5-e86d-45c0b80ad679",
        "colab": {
          "base_uri": "https://localhost:8080/",
          "height": 34
        }
      },
      "source": [
        "ren = 5\n",
        "col = 3\n",
        "gen = [ [0 for s in range(col)] for x in range(5)]\n",
        "print(gen)"
      ],
      "execution_count": 45,
      "outputs": [
        {
          "output_type": "stream",
          "text": [
            "[[0, 0, 0], [0, 0, 0], [0, 0, 0], [0, 0, 0], [0, 0, 0]]\n"
          ],
          "name": "stdout"
        }
      ]
    },
    {
      "cell_type": "markdown",
      "metadata": {
        "id": "LSfU1Vog_Ia4"
      },
      "source": [
        "#POO en  Python\n",
        "- clase\n",
        "- creación de objetos\n",
        "- constructor\n",
        "- encapsulamiento\n",
        "- métodos\n",
        "- atriutos\n",
        "- herencia\n"
      ]
    },
    {
      "cell_type": "code",
      "metadata": {
        "id": "RsQM2H9N9wVp",
        "outputId": "5fb2504b-3614-45f8-bfe4-9bc55ee92574",
        "colab": {
          "base_uri": "https://localhost:8080/",
          "height": 34
        }
      },
      "source": [
        "class Computadora:\n",
        "  def __init__( self, m , p ): #forzosamente se debe escribir así\n",
        "    self.__marca = m #los __ indican que es privado\n",
        "    self.__procesador = p\n",
        "#sel manda como argumento el objeto que lo llama\n",
        "  def to_string( self ): #debido a que python no fue creado para POO, necesita un ajuste especial (self)\n",
        "    return \"Marca: \"+self.__marca+\" Procesador: \"+self.__procesador\n",
        "\n",
        "mi_pc = Computadora(\"Toshiba\",\"Intel i7\") #variable que hace referencia al objeto tipo Computadora\n",
        "mi_pc.__marca=\"HP \"\n",
        "print(mi_pc.to_string())\n"
      ],
      "execution_count": 56,
      "outputs": [
        {
          "output_type": "stream",
          "text": [
            "Marca: Toshiba Procesador: Intel i7\n"
          ],
          "name": "stdout"
        }
      ]
    },
    {
      "cell_type": "code",
      "metadata": {
        "id": "0y-wdMm9Agh5"
      },
      "source": [
        ""
      ],
      "execution_count": null,
      "outputs": []
    }
  ]
}