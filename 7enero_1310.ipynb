{
  "nbformat": 4,
  "nbformat_minor": 0,
  "metadata": {
    "colab": {
      "name": "7enero_1310.ipynb",
      "provenance": [],
      "collapsed_sections": [],
      "authorship_tag": "ABX9TyMhJXbOhkxYRBgWZsTSBxAs",
      "include_colab_link": true
    },
    "kernelspec": {
      "name": "python3",
      "display_name": "Python 3"
    }
  },
  "cells": [
    {
      "cell_type": "markdown",
      "metadata": {
        "id": "view-in-github",
        "colab_type": "text"
      },
      "source": [
        "<a href=\"https://colab.research.google.com/github/AlamSalazar/edd_1310_2021/blob/master/7enero_1310.ipynb\" target=\"_parent\"><img src=\"https://colab.research.google.com/assets/colab-badge.svg\" alt=\"Open In Colab\"/></a>"
      ]
    },
    {
      "cell_type": "code",
      "metadata": {
        "colab": {
          "base_uri": "https://localhost:8080/"
        },
        "id": "kiX-7Tmuz7ni",
        "outputId": "76f1c950-6593-44c4-c1d9-a574ce93f9b5"
      },
      "source": [
        "class Queue:\r\n",
        "    def __init__(self):\r\n",
        "        self.__data = list() #[]\r\n",
        "\r\n",
        "    def is_empty(self):\r\n",
        "        return len(self.__data) == 0\r\n",
        "\r\n",
        "    def length(self):\r\n",
        "        return len(self.__data)\r\n",
        "\r\n",
        "    def enqueue(self,elem):\r\n",
        "        self.__data.append(elem)\r\n",
        "\r\n",
        "    def dequeue(self):\r\n",
        "        if not self.is_empty():\r\n",
        "            return self.__data.pop(0)\r\n",
        "        else:\r\n",
        "            return None\r\n",
        "\r\n",
        "    def to_string(self):\r\n",
        "        cadena = \"\"\r\n",
        "        for elem in self.__data:\r\n",
        "            cadena += \"|\" + str(elem)\r\n",
        "        cadena += \"|\"\r\n",
        "        return cadena\r\n",
        "\r\n",
        "class BoundePriorityQueue:\r\n",
        "    def __init__(self,niveles):\r\n",
        "        self.__data = [ Queue() for x in range(niveles) ]\r\n",
        "        self.__size = 0\r\n",
        "    \r\n",
        "    def is_empty(self):\r\n",
        "        return self.__size == 0\r\n",
        "\r\n",
        "    def length(self):\r\n",
        "        return self.__size\r\n",
        "\r\n",
        "    def enqueue(self,prioridad,elem):\r\n",
        "        if prioridad >= 0 and prioridad < len(self.__data):\r\n",
        "            self.__data[prioridad].enqueue(elem)\r\n",
        "            self.__size += 1\r\n",
        "    \r\n",
        "    def dequeue(self):\r\n",
        "        if not self.is_empty():\r\n",
        "            for nivel in self.__data:\r\n",
        "                if not nivel.is_empty():\r\n",
        "                    self.__size -= 1\r\n",
        "                    return nivel.dequeue()\r\n",
        "    \r\n",
        "    def to_string(self):\r\n",
        "        for nivel in range( len(self.__data)):\r\n",
        "            print(f\"Nivel {nivel} --> {self.__data[nivel].to_string()}\")\r\n",
        "\r\n",
        "\r\n",
        "#from colas import Queue,BoundePriorityQueue\r\n",
        "q1=Queue()\r\n",
        "q1.enqueue(1)\r\n",
        "q1.enqueue(2)\r\n",
        "q1.enqueue(3)\r\n",
        "q1.enqueue(33)\r\n",
        "q1.enqueue(23)\r\n",
        "print(q1.to_string())\r\n",
        "\r\n",
        "print(\"prueb 2 de Queue\")\r\n",
        "c1 = { \"id\":1,\"nombre\":\"Mario\",\"Balance\":20.5}\r\n",
        "c2 = { \"id\":2,\"nombre\":\"Diana\",\"Balance\":3456.5}\r\n",
        "c3 = { \"id\":3,\"nombre\":\"Bartolo\",\"Balance\":1000000.0}\r\n",
        "\r\n",
        "atencion = Queue()\r\n",
        "atencion.enqueue(c1)\r\n",
        "atencion.enqueue(c2)\r\n",
        "atencion.enqueue(c3)\r\n",
        "\r\n",
        "print(atencion.to_string())\r\n",
        "siguiente = atencion.dequeue()\r\n",
        "print(f\"Bienvenido sr.{siguiente['nombre']}, en qué podemos servirle el día de hoy?\")\r\n",
        "print(atencion.to_string())\r\n",
        "\r\n",
        "print(\"\\n--------------------------------------------\")\r\n",
        "print(\"Pruebas de las colas con prioridad acotada\")\r\n",
        "\r\n",
        "maestres = {\"prioridad\":4,\"descripcion\":\"Maestre\",\"personas\":[\"Juan P\",\"Diego H\"]}\r\n",
        "niños = {\"prioridad\":2,\"descripcion\":\"Niños\",\"personas\":[\"Santi H\",\"Angel H\"]}\r\n",
        "mecanicos = {\"prioridad\":4,\"descripcion\":\"Mecanicos\",\"personas\":[\"Diana T\",\"Maria Z\"]}\r\n",
        "mujeres = {\"prioridad\":3,\"descripcion\":\"Mujeres\",\"personas\":[\"Fernanda Y\",\"Daniela M\"]}\r\n",
        "terceraEdad = {\"prioridad\":2,\"descripcion\":\"TerceraEdad\",\"personas\":[\"Simon S\",\"Oscar H\"]}\r\n",
        "ninas = {\"prioridad\":1,\"descripcion\":\"Niñas\",\"personas\":[\"Fabiola R\",\"Cati G\"]}\r\n",
        "hombres = {\"prioridad\":3,\"descripcion\":\"Hombres\",\"personas\":[\"Alam S\",\"Ricardo H\"]}\r\n",
        "vigia = {\"prioridad\":4,\"descripcion\":\"Vigia\",\"personas\":[\"Hernesto P\",\"Jesus C\"]}\r\n",
        "capitan = {\"prioridad\":5,\"descripcion\":\"Capitan\",\"personas\":[\"Ruben A\"]}\r\n",
        "timonel = {\"prioridad\":4,\"descripcion\":\"Timonel\",\"personas\":[\"Diego M\"]}\r\n",
        "\r\n",
        "cpa = BoundePriorityQueue( 7 )\r\n",
        "cpa.enqueue(maestres['prioridad'], maestres)\r\n",
        "cpa.enqueue(niños['prioridad'], niños)\r\n",
        "cpa.enqueue(mujeres['prioridad'], mujeres)\r\n",
        "cpa.enqueue(terceraEdad['prioridad'], terceraEdad)\r\n",
        "cpa.enqueue(ninas['prioridad'], ninas)\r\n",
        "cpa.enqueue(hombres['prioridad'], hombres)\r\n",
        "cpa.enqueue(vigia['prioridad'], vigia)\r\n",
        "cpa.enqueue(capitan['prioridad'], capitan)\r\n",
        "cpa.enqueue(timonel['prioridad'], timonel)\r\n",
        "cpa.to_string()\r\n",
        "print(\"Todos han subido al barco de emergencia, están listos para sarpar\")\r\n"
      ],
      "execution_count": 21,
      "outputs": [
        {
          "output_type": "stream",
          "text": [
            "|1|2|3|33|23|\n",
            "prueb 2 de Queue\n",
            "|{'id': 1, 'nombre': 'Mario', 'Balance': 20.5}|{'id': 2, 'nombre': 'Diana', 'Balance': 3456.5}|{'id': 3, 'nombre': 'Bartolo', 'Balance': 1000000.0}|\n",
            "Bienvenido sr.Mario, en qué podemos servirle el día de hoy?\n",
            "|{'id': 2, 'nombre': 'Diana', 'Balance': 3456.5}|{'id': 3, 'nombre': 'Bartolo', 'Balance': 1000000.0}|\n",
            "\n",
            "--------------------------------------------\n",
            "Pruebas de las colas con prioridad acotada\n",
            "Nivel 0 --> |\n",
            "Nivel 1 --> |{'prioridad': 1, 'descripcion': 'Niñas', 'personas': ['Fabiola R', 'Cati G']}|\n",
            "Nivel 2 --> |{'prioridad': 2, 'descripcion': 'Niños', 'personas': ['Santi H', 'Angel H']}|{'prioridad': 2, 'descripcion': 'TerceraEdad', 'personas': ['Simon S', 'Oscar H']}|\n",
            "Nivel 3 --> |{'prioridad': 3, 'descripcion': 'Mujeres', 'personas': ['Fernanda Y', 'Daniela M']}|{'prioridad': 3, 'descripcion': 'Hombres', 'personas': ['Alam S', 'Ricardo H']}|\n",
            "Nivel 4 --> |{'prioridad': 4, 'descripcion': 'Maestre', 'personas': ['Juan P', 'Diego H']}|{'prioridad': 4, 'descripcion': 'Vigia', 'personas': ['Hernesto P', 'Jesus C']}|{'prioridad': 4, 'descripcion': 'Timonel', 'personas': ['Diego M']}|\n",
            "Nivel 5 --> |{'prioridad': 5, 'descripcion': 'Capitan', 'personas': ['Ruben A']}|\n",
            "Nivel 6 --> |\n",
            "Todos han subido al barco de emergencia, están listos para sarpar\n"
          ],
          "name": "stdout"
        }
      ]
    },
    {
      "cell_type": "code",
      "metadata": {
        "id": "_McNxIgKFptr"
      },
      "source": [
        ""
      ],
      "execution_count": null,
      "outputs": []
    }
  ]
}