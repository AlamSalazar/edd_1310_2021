{
  "nbformat": 4,
  "nbformat_minor": 0,
  "metadata": {
    "colab": {
      "name": "13octubre_1310.ipynb",
      "provenance": [],
      "authorship_tag": "ABX9TyMzyWJGXOlGrpN4AwYlGDHc",
      "include_colab_link": true
    },
    "kernelspec": {
      "name": "python3",
      "display_name": "Python 3"
    }
  },
  "cells": [
    {
      "cell_type": "markdown",
      "metadata": {
        "id": "view-in-github",
        "colab_type": "text"
      },
      "source": [
        "<a href=\"https://colab.research.google.com/github/AlamSalazar/edd_1310_2021/blob/master/13octubre_1310.ipynb\" target=\"_parent\"><img src=\"https://colab.research.google.com/assets/colab-badge.svg\" alt=\"Open In Colab\"/></a>"
      ]
    },
    {
      "cell_type": "markdown",
      "metadata": {
        "id": "8rF0XCwYkbCf"
      },
      "source": [
        ""
      ]
    },
    {
      "cell_type": "code",
      "metadata": {
        "id": "9tE9BoiEkXqL",
        "outputId": "4da78fe7-69ca-44db-8c68-c41cd31153be",
        "colab": {
          "base_uri": "https://localhost:8080/",
          "height": 107
        }
      },
      "source": [
        "alumno = { \n",
        "          \"num_cta\" : 313094062 ,\n",
        "          \"carrera\" : \"ICO\",\n",
        "          \"promedio\" : 8.5,\n",
        "          \"materias\" :[\"EDD\",\"CyP\",\"Calidad\",\"Emprendimiento\"],\n",
        "          \"direccion\" : { \n",
        "                            \"calle\":\"rancho seco\",\n",
        "                            \"numero\" : 23 ,\n",
        "                            \"delegacion\" : \"Neza\",\n",
        "                            \"estado\" : {\n",
        "                                        \"id\" : 15 ,\n",
        "                                        \"nombre\" : \"Estado de Máxico\" ,\n",
        "                                        \"nombre_corto\" : \"EdoMex\"\n",
        "                                        } ,\n",
        "                            \"CP\":57170\n",
        "\n",
        "                        } \n",
        "          }\n",
        "print(alumno)\n",
        "alumno['carrera']=\"Ingenieria en Computación\"\n",
        "print(alumno)\n",
        "alumno['nombre_completo']={'primer':\"Alam\",\n",
        "                           'segundo':\"Abel\",\n",
        "                           \"materno\":\"Salzar\",\n",
        "                           \"paterno\":\"Hermosillo\"\n",
        "                           }\n",
        "alumno['semestre']=3\n",
        "print(alumno)\n",
        "\n",
        "print(f\"{alumno['nombre_completo']['primer']}{alumno['nombre_completo']['segundo']}\")"
      ],
      "execution_count": 5,
      "outputs": [
        {
          "output_type": "stream",
          "text": [
            "{'num_cta': 313094062, 'carrera': 'ICO', 'promedio': 8.5, 'materias': ['EDD', 'CyP', 'Calidad', 'Emprendimiento'], 'direccion': {'calle': 'rancho seco', 'numero': 23, 'delegacion': 'Neza', 'estado': {'id': 15, 'nombre': 'Estado de Máxico', 'nombre_corto': 'EdoMex'}, 'CP': 57170}}\n",
            "{'num_cta': 313094062, 'carrera': 'Ingenieria en Computación', 'promedio': 8.5, 'materias': ['EDD', 'CyP', 'Calidad', 'Emprendimiento'], 'direccion': {'calle': 'rancho seco', 'numero': 23, 'delegacion': 'Neza', 'estado': {'id': 15, 'nombre': 'Estado de Máxico', 'nombre_corto': 'EdoMex'}, 'CP': 57170}}\n",
            "{'num_cta': 313094062, 'carrera': 'Ingenieria en Computación', 'promedio': 8.5, 'materias': ['EDD', 'CyP', 'Calidad', 'Emprendimiento'], 'direccion': {'calle': 'rancho seco', 'numero': 23, 'delegacion': 'Neza', 'estado': {'id': 15, 'nombre': 'Estado de Máxico', 'nombre_corto': 'EdoMex'}, 'CP': 57170}, 'nombre_completo': {'primer': 'Alam', 'segundo': 'Abel', 'materno': 'Salzar', 'paterno': 'Hermosillo'}, 'semestre': 3}\n",
            "AlamAbel\n"
          ],
          "name": "stdout"
        }
      ]
    },
    {
      "cell_type": "markdown",
      "metadata": {
        "id": "yVKrDDbIkZf5"
      },
      "source": [
        "#key( ) \n",
        "\n",
        "---\n",
        "#value ( )\n",
        "\n",
        "---\n",
        "#items ( )\n",
        "\n",
        "---"
      ]
    },
    {
      "cell_type": "code",
      "metadata": {
        "id": "jhEUtaBcyicR",
        "outputId": "ecc8c0f7-84b3-47ef-92d2-88fb5a4c70b4",
        "colab": {
          "base_uri": "https://localhost:8080/",
          "height": 481
        }
      },
      "source": [
        "llaves=alumno.keys()\n",
        "print(llaves)\n",
        "for llave in llaves:\n",
        "  print(llave.upper())\n",
        "print(\"____________________\")\n",
        "\n",
        "valores=alumno.values()\n",
        "for val in valores:\n",
        "  print(val)\n",
        "print(\"____________________\")\n",
        "\n",
        "pares=alumno.items()\n",
        "print(pares)\n",
        "for elem in pares:\n",
        "  print(f\"el campo {elem[0]} tiene el valor {elem[1]}\")"
      ],
      "execution_count": 12,
      "outputs": [
        {
          "output_type": "stream",
          "text": [
            "dict_keys(['num_cta', 'carrera', 'promedio', 'materias', 'direccion', 'nombre_completo', 'semestre'])\n",
            "NUM_CTA\n",
            "CARRERA\n",
            "PROMEDIO\n",
            "MATERIAS\n",
            "DIRECCION\n",
            "NOMBRE_COMPLETO\n",
            "SEMESTRE\n",
            "____________________\n",
            "313094062\n",
            "Ingenieria en Computación\n",
            "8.5\n",
            "['EDD', 'CyP', 'Calidad', 'Emprendimiento']\n",
            "{'calle': 'rancho seco', 'numero': 23, 'delegacion': 'Neza', 'estado': {'id': 15, 'nombre': 'Estado de Máxico', 'nombre_corto': 'EdoMex'}, 'CP': 57170}\n",
            "{'primer': 'Alam', 'segundo': 'Abel', 'materno': 'Salzar', 'paterno': 'Hermosillo'}\n",
            "3\n",
            "____________________\n",
            "dict_items([('num_cta', 313094062), ('carrera', 'Ingenieria en Computación'), ('promedio', 8.5), ('materias', ['EDD', 'CyP', 'Calidad', 'Emprendimiento']), ('direccion', {'calle': 'rancho seco', 'numero': 23, 'delegacion': 'Neza', 'estado': {'id': 15, 'nombre': 'Estado de Máxico', 'nombre_corto': 'EdoMex'}, 'CP': 57170}), ('nombre_completo', {'primer': 'Alam', 'segundo': 'Abel', 'materno': 'Salzar', 'paterno': 'Hermosillo'}), ('semestre', 3)])\n",
            "el campo num_cta tiene el valor 313094062\n",
            "el campo carrera tiene el valor Ingenieria en Computación\n",
            "el campo promedio tiene el valor 8.5\n",
            "el campo materias tiene el valor ['EDD', 'CyP', 'Calidad', 'Emprendimiento']\n",
            "el campo direccion tiene el valor {'calle': 'rancho seco', 'numero': 23, 'delegacion': 'Neza', 'estado': {'id': 15, 'nombre': 'Estado de Máxico', 'nombre_corto': 'EdoMex'}, 'CP': 57170}\n",
            "el campo nombre_completo tiene el valor {'primer': 'Alam', 'segundo': 'Abel', 'materno': 'Salzar', 'paterno': 'Hermosillo'}\n",
            "el campo semestre tiene el valor 3\n"
          ],
          "name": "stdout"
        }
      ]
    },
    {
      "cell_type": "markdown",
      "metadata": {
        "id": "dKqEU5IX2Pe8"
      },
      "source": [
        "#.update( )\n",
        "Actualiza los pares de un diccionario en otro \n",
        "> Basicamente, **concatenar**\n",
        "\n"
      ]
    },
    {
      "cell_type": "code",
      "metadata": {
        "id": "6eSj3E_YysX-",
        "outputId": "85c2ab63-83d7-46e0-f233-883f685db67c",
        "colab": {
          "base_uri": "https://localhost:8080/",
          "height": 90
        }
      },
      "source": [
        "#Concatenar\n",
        "computadora={\"procesador\":\"Intel i7\",\"ram\":\"Kingston 128GB\"}\n",
        "otros={\"monitor\":\"LG 49\\\"\",\"hd\":\"Toshiba ITB\"}\n",
        "print(computadora)\n",
        "print(otros)\n",
        "\n",
        "#computadora += otros #No se puede :c\n",
        "computadora.update(otros) #así, se pueden concatenar diccionarios\n",
        "print(computadora)\n",
        "\n"
      ],
      "execution_count": 16,
      "outputs": [
        {
          "output_type": "stream",
          "text": [
            "{'procesador': 'Intel i7', 'ram': 'Kingston 128GB'}\n",
            "{'monitor': 'LG 49\"', 'hd': 'Toshiba ITB'}\n",
            "{'procesador': 'Intel i7', 'ram': 'Kingston 128GB', 'monitor': 'LG 49\"', 'hd': 'Toshiba ITB'}\n"
          ],
          "name": "stdout"
        }
      ]
    },
    {
      "cell_type": "markdown",
      "metadata": {
        "id": "iHTBgiGg2s4F"
      },
      "source": [
        "#Funciones\n",
        "- Unidades de código reutilizable\n",
        "- Es un mecanosmo de otrganización de código\n",
        "- Una función toma de 0 (none or void) a n parametros de entrada\n",
        "- Tiene una sola salida (return) de cualquier tipo de dato\n",
        "- Solo puedes hacer dos cosas:\n",
        "   1.   Definirla\n",
        "   2.   Llamarla\n",
        "- Se define con la palabra reservada '**def**'"
      ]
    },
    {
      "cell_type": "code",
      "metadata": {
        "id": "a8LZLful1lkj",
        "outputId": "1048014b-0b9a-4a24-fe0c-6ec54e6e845b",
        "colab": {
          "base_uri": "https://localhost:8080/",
          "height": 463
        }
      },
      "source": [
        "def sumar (x , y):\n",
        "  resultado = x + y\n",
        "  return resultado\n",
        "print(sumar(10,15))\n",
        "print(sumar(1,5))\n",
        "\n",
        "def saludar(nombre):\n",
        "  print(f\"Hola {nombre},¿Cómo estás?\")\n",
        "#  return None #Puede no ponerse nada si la finción no regresa nada\n",
        "saludar(\"Alam\")\n",
        "\n",
        "def sal(nombre):\n",
        "  saludo=[\"Hola\",\",¿Cómo estás?\"]\n",
        "  saludo.insert(1,nombre)\n",
        "  return saludo\n",
        "print(sal(\"Alam\"))\n",
        "\n",
        "def multiplicar (valor, veces):\n",
        "  if valor != None:\n",
        "    c= valor * veces\n",
        "  else:\n",
        "    c=\"Operación no valida\"\n",
        "  return c\n",
        "print(multiplicar(5,6))\n",
        "print(multiplicar(None,6))\n",
        "\n",
        "def operación (a,b,c):\n",
        "  res=a+(b/c)\n",
        "  return res\n",
        "print(operación(2,9,3))\n",
        "print(operación(2,3,9))\n",
        "print(operación(b=9,a=2,c=3))\n",
        "\n",
        "#valores por defecto\n",
        "def comanda(primer, fuerte, postre=\"Galleta de animalito\"):\n",
        "  print(f\"De entrada pidio: {primer}\")\n",
        "  print(f\"De plato fuerte: {fuerte}\")\n",
        "  print(f\"y postre: {postre}\")\n",
        "comanda(\" Sopa aguada\",\" Tortas de papa\",\" Gelatina de limon\")\n",
        "print(\"______________\")\n",
        "comanda(\" sopa aguada\",\" tortas de papa\")\n",
        "print(\"______________\")\n",
        "\n",
        "# Argumentos posicionales con Tuplas *\n",
        "def comanda2( *opciones ):\n",
        "  print(opciones)\n",
        "  print(f\"De entrada pidio: {opciones[0]}\")\n",
        "  print(f\"De plato fuerte: {opciones[1]}\")\n",
        "  print(f\"y postre: {opciones[2]}\")\n",
        "  print(\"Indicaciones extra:\")\n",
        "  for ind in opciones[3::]:\n",
        "    print(f\"\\t{ind}\")\n",
        "comanda2(\" Sopa aguada\",\" Tortas de papa\",\" Gelatina de limon\",\"Las tortas bien doradas\", \"traer dos limones\")"
      ],
      "execution_count": 49,
      "outputs": [
        {
          "output_type": "stream",
          "text": [
            "25\n",
            "6\n",
            "Hola Alam,¿Cómo estás?\n",
            "['Hola', 'Alam', ',¿Cómo estás?']\n",
            "30\n",
            "Operación no valida\n",
            "5.0\n",
            "2.3333333333333335\n",
            "5.0\n",
            "De entrada pidio:  Sopa aguada\n",
            "De plato fuerte:  Tortas de papa\n",
            "y postre:  Gelatina de limon\n",
            "______________\n",
            "De entrada pidio:  sopa aguada\n",
            "De plato fuerte:  tortas de papa\n",
            "y postre: Galleta de animalito\n",
            "______________\n",
            "(' Sopa aguada', ' Tortas de papa', ' Gelatina de limon', 'Las tortas bien doradas', 'traer dos limones')\n",
            "De entrada pidio:  Sopa aguada\n",
            "De plato fuerte:  Tortas de papa\n",
            "y postre:  Gelatina de limon\n",
            "Indicaciones extra:\n",
            "\tLas tortas bien doradas\n",
            "\ttraer dos limones\n"
          ],
          "name": "stdout"
        }
      ]
    },
    {
      "cell_type": "markdown",
      "metadata": {
        "id": "aBvE3waIB80k"
      },
      "source": [
        "#Argumentos posicionales con diccionarios **"
      ]
    },
    {
      "cell_type": "code",
      "metadata": {
        "id": "2HAjz52_4ToX",
        "outputId": "ebb3f6ac-23aa-4cdd-c9e6-508a04ccec1d",
        "colab": {
          "base_uri": "https://localhost:8080/",
          "height": 161
        }
      },
      "source": [
        "def comanda3 ( **opciones):\n",
        "  print(opciones)\n",
        "  for op in opciones.items():\n",
        "    print(f\"{op[0]} -> {op[1]}\")\n",
        "\n",
        "\n",
        "comanda3(primer = \"Sopa aguada\", Fuerte= \"Tortas de papa\", Postre=\"Gelatina de limon\",\n",
        "         extra1=\"Las tortas bien doradas\", esxtra2=\"traer dos limones\", extra3=\"Agua de limón\")\n"
      ],
      "execution_count": 52,
      "outputs": [
        {
          "output_type": "stream",
          "text": [
            "{'primer': 'Sopa aguada', 'Fuerte': 'Tortas de papa', 'Postre': 'Gelatina de limon', 'extra1': 'Las tortas bien doradas', 'esxtra2': 'traer dos limones', 'extra3': 'Agua de limón'}\n",
            "primer -> Sopa aguada\n",
            "Fuerte -> Tortas de papa\n",
            "Postre -> Gelatina de limon\n",
            "extra1 -> Las tortas bien doradas\n",
            "esxtra2 -> traer dos limones\n",
            "extra3 -> Agua de limón\n"
          ],
          "name": "stdout"
        }
      ]
    },
    {
      "cell_type": "code",
      "metadata": {
        "id": "f0MOAr6gCtv5"
      },
      "source": [
        ""
      ],
      "execution_count": null,
      "outputs": []
    }
  ]
}