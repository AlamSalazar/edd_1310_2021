{
  "nbformat": 4,
  "nbformat_minor": 0,
  "metadata": {
    "colab": {
      "name": "26noviembre_1310.ipynb",
      "provenance": [],
      "collapsed_sections": [],
      "authorship_tag": "ABX9TyM6sDGtQYyigzLbJmeo0qMr",
      "include_colab_link": true
    },
    "kernelspec": {
      "name": "python3",
      "display_name": "Python 3"
    }
  },
  "cells": [
    {
      "cell_type": "markdown",
      "metadata": {
        "id": "view-in-github",
        "colab_type": "text"
      },
      "source": [
        "<a href=\"https://colab.research.google.com/github/AlamSalazar/edd_1310_2021/blob/master/26noviembre_1310.ipynb\" target=\"_parent\"><img src=\"https://colab.research.google.com/assets/colab-badge.svg\" alt=\"Open In Colab\"/></a>"
      ]
    },
    {
      "cell_type": "code",
      "metadata": {
        "colab": {
          "base_uri": "https://localhost:8080/"
        },
        "id": "sMCNdj2_fJM6",
        "outputId": "32fc9d3d-057e-4b9d-da53-d7a5ef6b517a"
      },
      "source": [
        "class Stack:\n",
        "  def __init__(self):\n",
        "    self.__data = list()\n",
        "    \n",
        "  def is_empty( self ):\n",
        "    return len(self.__data) == 0\n",
        "  \n",
        "  def length( self ):\n",
        "    return len(self.__data )\n",
        "\n",
        "  def pop( self ):\n",
        "    if self.is_empty():\n",
        "      print(\"Pila vacía\")\n",
        "    else:\n",
        "      return self.__data.pop()\n",
        "    \n",
        "  def push( self , value ):\n",
        "    self.__data.append(value)\n",
        "\n",
        "  def peek( self ):\n",
        "    return self._data[ len(self.__data)-1 ]\n",
        "\n",
        "  def to_string( self ):\n",
        "    print(\"  -----\")\n",
        "    for item in self.__data:\n",
        "      print(f\"  | {item} |  \")\n",
        "      print(\"  -----\")\n",
        "\n",
        "#from pilas import Stack\n",
        "pila = Stack()\n",
        "pila.push('a')\n",
        "pila.push('b')\n",
        "pila.to_string()\n",
        "print(\"--------------------\")\n",
        "pila.push('c')\n",
        "pila.push('d')\n",
        "pila.to_string()\n",
        "print(\"--------------------\")\n",
        "var = pila.pop()\n",
        "pila.to_string()\n",
        "print(f\" var = {var} \")\n"
      ],
      "execution_count": 12,
      "outputs": [
        {
          "output_type": "stream",
          "text": [
            "  -----\n",
            "  | a |  \n",
            "  -----\n",
            "  | b |  \n",
            "  -----\n",
            "--------------------\n",
            "  -----\n",
            "  | a |  \n",
            "  -----\n",
            "  | b |  \n",
            "  -----\n",
            "  | c |  \n",
            "  -----\n",
            "  | d |  \n",
            "  -----\n",
            "--------------------\n",
            "  -----\n",
            "  | a |  \n",
            "  -----\n",
            "  | b |  \n",
            "  -----\n",
            "  | c |  \n",
            "  -----\n",
            " var = d \n"
          ],
          "name": "stdout"
        }
      ]
    },
    {
      "cell_type": "code",
      "metadata": {
        "id": "vMWJdUpF48Y8"
      },
      "source": [
        ""
      ],
      "execution_count": null,
      "outputs": []
    }
  ]
}