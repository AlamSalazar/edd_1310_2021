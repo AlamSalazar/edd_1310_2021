{
  "nbformat": 4,
  "nbformat_minor": 0,
  "metadata": {
    "colab": {
      "name": "sumador.ipynb",
      "provenance": [],
      "authorship_tag": "ABX9TyN/mvegnQGit9nxK5zviXEr",
      "include_colab_link": true
    },
    "kernelspec": {
      "name": "python3",
      "display_name": "Python 3"
    }
  },
  "cells": [
    {
      "cell_type": "markdown",
      "metadata": {
        "id": "view-in-github",
        "colab_type": "text"
      },
      "source": [
        "<a href=\"https://colab.research.google.com/github/AlamSalazar/edd_1310_2021/blob/master/sumador.ipynb\" target=\"_parent\"><img src=\"https://colab.research.google.com/assets/colab-badge.svg\" alt=\"Open In Colab\"/></a>"
      ]
    },
    {
      "cell_type": "markdown",
      "metadata": {
        "id": "9fCt8MLRV_Va"
      },
      "source": [
        "#Lee, Copia, Arregla y Suma\n",
        "*Se debe agregar el documento Datos.txt antes de correr el programa"
      ]
    },
    {
      "cell_type": "code",
      "metadata": {
        "id": "5_PYZE3OCM-2",
        "outputId": "abc335cb-7ffb-44c9-9c36-f7cd6520b7d0",
        "colab": {
          "base_uri": "https://localhost:8080/",
          "height": 411
        }
      },
      "source": [
        "datosTotales=[]\n",
        "sumas=[]\n",
        "#archivo = open('Datos.txt', \"rt\")\n",
        "archivo = open('Datos.txt', mode='r', encoding='utf-8-sig')\n",
        "while True:\n",
        "  linea = archivo.readline()\n",
        "  if not linea:\n",
        "    break\n",
        "  datosLinea=[]\n",
        "  datosLineaSeparados=list(linea.replace(\",\",\" \").split())\n",
        "\n",
        "  for elemento in datosLineaSeparados:\n",
        "    if not elemento.isnumeric():\n",
        "        break\n",
        "    datosLinea.append(int(elemento))\n",
        "      \n",
        "  if datosLinea:\n",
        "      datosTotales.append(datosLinea)\n",
        "archivo.close()\n",
        "\n",
        "print(datosTotales)\n",
        "\n",
        "for renglon in datosTotales:\n",
        "  suma=0\n",
        "  for dato in renglon:\n",
        "    f=len(renglon)\n",
        "    #print(suma,\"+\",dato,\"=\",end=\" \")\n",
        "    print(dato,\"+\",end=\" \")\n",
        "    suma+=dato\n",
        "    #print(suma)\n",
        "  print(\"=\",suma)\n",
        "  print(\"------------------------------------\")\n",
        "  sumas.append(suma)\n",
        "completo=0\n",
        "print(\"La suma de todos los valores es: \")\n",
        "for todo in sumas:\n",
        "  completo+=todo\n",
        "  print(todo,\"+\",end=\" \")\n",
        "print(\"=\",completo)"
      ],
      "execution_count": 46,
      "outputs": [
        {
          "output_type": "stream",
          "text": [
            "[[1, 2, 1, 14, 29, 45, 5, 58, 56, 10, 29, 14, 88, 17, 4, 3, 1, 7, 12, 10], [2, 23, 5, 8, 44, 2, 2, 13, 5, 9, 10, 16, 98, 76, 47, 1, 1, 3, 2], [3, 87, 15, 11, 9, 7, 90, 97, 21, 3, 4, 1, 8, 88, 74, 32, 34, 43, 17, 77, 93], [4, 46, 8, 1, 6, 2, 10, 37, 84, 4, 5, 9, 10, 2, 6, 3, 1, 1, 1, 8, 4, 20, 33, 23, 18, 45], [55, 3, 2, 29, 58, 83, 9, 17, 1, 43, 20, 93, 31, 46, 43, 77, 8, 44, 45, 17, 62], [6, 74, 13, 44, 18, 45, 11, 93, 2, 1, 1, 1, 25, 1, 42, 18, 22, 44, 52], [7, 88, 93, 6, 54, 2, 8, 1, 41, 86, 79, 33, 48, 9, 32, 63, 18, 7, 33, 2, 1, 16, 11, 7], [8, 0, 22, 17, 30, 6, 2, 12, 47, 37, 34, 85, 47, 33, 2, 6, 8, 4, 5, 29, 30, 42, 77, 2], [9, 2, 3, 4, 1, 1, 3, 6, 7, 7, 8, 9, 5, 1, 3, 4, 9, 10, 12, 3, 1, 5, 6, 22, 11, 0, 2], [1, 0, 2, 55, 9, 3, 55, 23, 1, 6, 9, 4, 5, 3, 3, 2, 1, 3, 8, 1, 6, 10, 0, 1, 5, 1, 3]]\n",
            "1 + 2 + 1 + 14 + 29 + 45 + 5 + 58 + 56 + 10 + 29 + 14 + 88 + 17 + 4 + 3 + 1 + 7 + 12 + 10 + = 406\n",
            "------------------------------------\n",
            "2 + 23 + 5 + 8 + 44 + 2 + 2 + 13 + 5 + 9 + 10 + 16 + 98 + 76 + 47 + 1 + 1 + 3 + 2 + = 367\n",
            "------------------------------------\n",
            "3 + 87 + 15 + 11 + 9 + 7 + 90 + 97 + 21 + 3 + 4 + 1 + 8 + 88 + 74 + 32 + 34 + 43 + 17 + 77 + 93 + = 814\n",
            "------------------------------------\n",
            "4 + 46 + 8 + 1 + 6 + 2 + 10 + 37 + 84 + 4 + 5 + 9 + 10 + 2 + 6 + 3 + 1 + 1 + 1 + 8 + 4 + 20 + 33 + 23 + 18 + 45 + = 391\n",
            "------------------------------------\n",
            "55 + 3 + 2 + 29 + 58 + 83 + 9 + 17 + 1 + 43 + 20 + 93 + 31 + 46 + 43 + 77 + 8 + 44 + 45 + 17 + 62 + = 786\n",
            "------------------------------------\n",
            "6 + 74 + 13 + 44 + 18 + 45 + 11 + 93 + 2 + 1 + 1 + 1 + 25 + 1 + 42 + 18 + 22 + 44 + 52 + = 513\n",
            "------------------------------------\n",
            "7 + 88 + 93 + 6 + 54 + 2 + 8 + 1 + 41 + 86 + 79 + 33 + 48 + 9 + 32 + 63 + 18 + 7 + 33 + 2 + 1 + 16 + 11 + 7 + = 745\n",
            "------------------------------------\n",
            "8 + 0 + 22 + 17 + 30 + 6 + 2 + 12 + 47 + 37 + 34 + 85 + 47 + 33 + 2 + 6 + 8 + 4 + 5 + 29 + 30 + 42 + 77 + 2 + = 585\n",
            "------------------------------------\n",
            "9 + 2 + 3 + 4 + 1 + 1 + 3 + 6 + 7 + 7 + 8 + 9 + 5 + 1 + 3 + 4 + 9 + 10 + 12 + 3 + 1 + 5 + 6 + 22 + 11 + 0 + 2 + = 154\n",
            "------------------------------------\n",
            "1 + 0 + 2 + 55 + 9 + 3 + 55 + 23 + 1 + 6 + 9 + 4 + 5 + 3 + 3 + 2 + 1 + 3 + 8 + 1 + 6 + 10 + 0 + 1 + 5 + 1 + 3 + = 220\n",
            "------------------------------------\n",
            "La suma de todos los valores es: \n",
            "406 + 367 + 814 + 391 + 786 + 513 + 745 + 585 + 154 + 220 + = 4981\n"
          ],
          "name": "stdout"
        }
      ]
    },
    {
      "cell_type": "code",
      "metadata": {
        "id": "tZU2xMrsCbwB"
      },
      "source": [
        ""
      ],
      "execution_count": null,
      "outputs": []
    }
  ]
}